{
  "nbformat": 4,
  "nbformat_minor": 0,
  "metadata": {
    "colab": {
      "provenance": []
    },
    "kernelspec": {
      "name": "python3",
      "display_name": "Python 3"
    },
    "language_info": {
      "name": "python"
    }
  },
  "cells": [
    {
      "cell_type": "code",
      "execution_count": null,
      "metadata": {
        "id": "1fWFh3MePG8Q"
      },
      "outputs": [],
      "source": [
        "# Chain Rule\n",
        "\n",
        "# dz/dx = dz/dy * dy/dx"
      ]
    },
    {
      "cell_type": "code",
      "source": [
        "# Computational Graph"
      ],
      "metadata": {
        "id": "38HxVS-Pc5XF"
      },
      "execution_count": null,
      "outputs": []
    },
    {
      "cell_type": "code",
      "source": [
        "# Forward Pass : Compute Loss\n",
        "# Compute Local Gradients\n",
        "# Backword Pass : Compute dLoss/dWeights using the chain rule"
      ],
      "metadata": {
        "id": "yNuzlLSbgC4C"
      },
      "execution_count": null,
      "outputs": []
    },
    {
      "cell_type": "code",
      "source": [
        "import torch\n",
        "\n",
        "x = torch.tensor(1.0)\n",
        "y = torch.tensor(2.0)\n",
        "\n",
        "w = torch.tensor(1.0, requires_grad = True)\n",
        "\n",
        "# forward pass and compute the loss\n",
        "y_hat = w*x\n",
        "loss = (y_hat - y)**2\n",
        "print(loss)\n",
        "\n",
        "# Backward\n",
        "loss.backward()\n",
        "print(w.grad)\n",
        "\n",
        "\n",
        "### Update the weights\n",
        "### Next forward & backwards"
      ],
      "metadata": {
        "colab": {
          "base_uri": "https://localhost:8080/"
        },
        "id": "Gn6vXtlvgeKT",
        "outputId": "74c10e65-0138-4d40-ef4a-909e229683f8"
      },
      "execution_count": null,
      "outputs": [
        {
          "output_type": "stream",
          "name": "stdout",
          "text": [
            "tensor(1., grad_fn=<PowBackward0>)\n",
            "tensor(-2.)\n"
          ]
        }
      ]
    },
    {
      "cell_type": "code",
      "source": [],
      "metadata": {
        "id": "QNzCzxXjiFNs"
      },
      "execution_count": null,
      "outputs": []
    }
  ]
}