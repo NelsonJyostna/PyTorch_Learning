{
  "nbformat": 4,
  "nbformat_minor": 0,
  "metadata": {
    "colab": {
      "provenance": []
    },
    "kernelspec": {
      "name": "python3",
      "display_name": "Python 3"
    },
    "language_info": {
      "name": "python"
    }
  },
  "cells": [
    {
      "cell_type": "code",
      "execution_count": null,
      "metadata": {
        "id": "Wrr0bhu4-YpH"
      },
      "outputs": [],
      "source": [
        "import torch"
      ]
    },
    {
      "cell_type": "code",
      "source": [
        "# https://pytorch.org/docs/stable/generated/torch.empty.html      # Empty Documentation\n",
        "\n",
        "x = torch.empty(1)\n",
        "print(x)"
      ],
      "metadata": {
        "colab": {
          "base_uri": "https://localhost:8080/"
        },
        "id": "ZPIYpaKRSEMf",
        "outputId": "d0f91210-826a-47d0-d22a-924aec1ff26d"
      },
      "execution_count": null,
      "outputs": [
        {
          "output_type": "stream",
          "name": "stdout",
          "text": [
            "tensor([0.0001])\n"
          ]
        }
      ]
    },
    {
      "cell_type": "code",
      "source": [
        "x1 = torch.empty(3)\n",
        "print(x1)"
      ],
      "metadata": {
        "colab": {
          "base_uri": "https://localhost:8080/"
        },
        "id": "nD_p3wDsSNaP",
        "outputId": "8596cb69-27d7-4e89-f294-9eac3a84c888"
      },
      "execution_count": null,
      "outputs": [
        {
          "output_type": "stream",
          "name": "stdout",
          "text": [
            "tensor([3.8112e-20, 3.0955e-41, 3.8107e-20])\n"
          ]
        }
      ]
    },
    {
      "cell_type": "code",
      "source": [
        "x2 = torch.empty(2,3)\n",
        "print(x2)"
      ],
      "metadata": {
        "colab": {
          "base_uri": "https://localhost:8080/"
        },
        "id": "0zYzfqvGSeGs",
        "outputId": "354d818d-07a1-44c0-d8a3-6321a0df6725"
      },
      "execution_count": null,
      "outputs": [
        {
          "output_type": "stream",
          "name": "stdout",
          "text": [
            "tensor([[3.7248e-20, 3.0955e-41, 3.6059e-20],\n",
            "        [3.0955e-41, 0.0000e+00, 0.0000e+00]])\n"
          ]
        }
      ]
    },
    {
      "cell_type": "code",
      "source": [
        "x3 = torch.empty(2, 2,3)\n",
        "print(x3)"
      ],
      "metadata": {
        "colab": {
          "base_uri": "https://localhost:8080/"
        },
        "id": "N-NqXhoTSkqE",
        "outputId": "ec1ad822-301c-487e-ae4a-cbd58b69d265"
      },
      "execution_count": null,
      "outputs": [
        {
          "output_type": "stream",
          "name": "stdout",
          "text": [
            "tensor([[[5.4928e-05, 1.0254e-11, 2.1670e-04],\n",
            "         [8.5410e+20, 6.6756e+22, 3.1984e+21]],\n",
            "\n",
            "        [[2.6076e-09, 6.4174e-10, 2.4829e-18],\n",
            "         [3.1360e+27, 7.0800e+31, 3.1095e-18]]])\n"
          ]
        }
      ]
    },
    {
      "cell_type": "code",
      "source": [
        "x = torch.rand(2,2)\n",
        "print(x)"
      ],
      "metadata": {
        "colab": {
          "base_uri": "https://localhost:8080/"
        },
        "id": "9AJRnRvrTWzO",
        "outputId": "96a7b1ff-7172-432e-a768-5333f20ecf5c"
      },
      "execution_count": null,
      "outputs": [
        {
          "output_type": "stream",
          "name": "stdout",
          "text": [
            "tensor([[0.7335, 0.7631],\n",
            "        [0.9470, 0.2128]])\n"
          ]
        }
      ]
    },
    {
      "cell_type": "code",
      "source": [
        "x = torch.zeros(2,3)\n",
        "print(x)"
      ],
      "metadata": {
        "colab": {
          "base_uri": "https://localhost:8080/"
        },
        "id": "lo6AyTghUggD",
        "outputId": "59601c34-8b22-4a92-f685-d5f650278928"
      },
      "execution_count": null,
      "outputs": [
        {
          "output_type": "stream",
          "name": "stdout",
          "text": [
            "tensor([[0., 0., 0.],\n",
            "        [0., 0., 0.]])\n"
          ]
        }
      ]
    },
    {
      "cell_type": "code",
      "source": [
        "x = torch.ones(2,4)\n",
        "print(x.dtype)"
      ],
      "metadata": {
        "colab": {
          "base_uri": "https://localhost:8080/"
        },
        "id": "SF9NPZ8_UzP9",
        "outputId": "24173b10-ea76-4e94-d00a-c4ca43107c4c"
      },
      "execution_count": null,
      "outputs": [
        {
          "output_type": "stream",
          "name": "stdout",
          "text": [
            "torch.float32\n"
          ]
        }
      ]
    },
    {
      "cell_type": "code",
      "source": [
        "x = torch.ones(2,4, dtype=torch.int)\n",
        "print(x.dtype)"
      ],
      "metadata": {
        "colab": {
          "base_uri": "https://localhost:8080/"
        },
        "id": "YmfvCkK0U5rG",
        "outputId": "28c1ba35-3402-4bca-99d2-2150455a238a"
      },
      "execution_count": null,
      "outputs": [
        {
          "output_type": "stream",
          "name": "stdout",
          "text": [
            "torch.int32\n"
          ]
        }
      ]
    },
    {
      "cell_type": "code",
      "source": [
        "x = torch.ones(2,4, dtype=torch.double)\n",
        "print(x.dtype)"
      ],
      "metadata": {
        "colab": {
          "base_uri": "https://localhost:8080/"
        },
        "id": "WBIO9QOFVNU7",
        "outputId": "0c1e0d82-4398-454f-faf8-a6752545e0ce"
      },
      "execution_count": null,
      "outputs": [
        {
          "output_type": "stream",
          "name": "stdout",
          "text": [
            "torch.float64\n"
          ]
        }
      ]
    },
    {
      "cell_type": "code",
      "source": [
        "x = torch.ones(2,4, dtype=torch.float16)\n",
        "print(x.dtype)"
      ],
      "metadata": {
        "colab": {
          "base_uri": "https://localhost:8080/"
        },
        "id": "Ajhp00fuVVoZ",
        "outputId": "c90ff106-02b5-4522-dcff-a48133fd9831"
      },
      "execution_count": null,
      "outputs": [
        {
          "output_type": "stream",
          "name": "stdout",
          "text": [
            "torch.float16\n"
          ]
        }
      ]
    },
    {
      "cell_type": "code",
      "source": [
        "x = torch.ones(2,4, dtype=torch.float16)\n",
        "print(x.size())"
      ],
      "metadata": {
        "colab": {
          "base_uri": "https://localhost:8080/"
        },
        "id": "IcBvvvXzVcIW",
        "outputId": "39d6810a-3901-492d-fff2-98809e4505c5"
      },
      "execution_count": null,
      "outputs": [
        {
          "output_type": "stream",
          "name": "stdout",
          "text": [
            "torch.Size([2, 4])\n"
          ]
        }
      ]
    },
    {
      "cell_type": "code",
      "source": [
        "x = torch.tensor([2.5, 0.1])\n",
        "print(x)"
      ],
      "metadata": {
        "colab": {
          "base_uri": "https://localhost:8080/"
        },
        "id": "GRzpl-yPVkke",
        "outputId": "fbf7055b-4520-48c2-84aa-ac997b0d8cae"
      },
      "execution_count": null,
      "outputs": [
        {
          "output_type": "stream",
          "name": "stdout",
          "text": [
            "tensor([2.5000, 0.1000])\n"
          ]
        }
      ]
    },
    {
      "cell_type": "code",
      "source": [
        "x = torch.rand(2,2)\n",
        "y = torch.rand(2,2)\n",
        "\n",
        "print(y)\n",
        "y.add_(x)\n",
        "print(y)\n",
        "\n",
        "# An in-place operation is an operation that changes directly the content of a given Tensor without making a copy.\n",
        "# Inplace operations in pytorch are always postfixed with a _, like .add_() or .scatter_().\n",
        "# Python operations like += or *= are also inplace operations"
      ],
      "metadata": {
        "colab": {
          "base_uri": "https://localhost:8080/"
        },
        "id": "-p69tamBWXl3",
        "outputId": "c630e69f-2177-4feb-9764-14dfa1edcb2b"
      },
      "execution_count": null,
      "outputs": [
        {
          "output_type": "stream",
          "name": "stdout",
          "text": [
            "tensor([[0.1180, 0.6637],\n",
            "        [0.2268, 0.4963]])\n",
            "tensor([[0.4895, 1.5355],\n",
            "        [0.7541, 0.8202]])\n"
          ]
        }
      ]
    },
    {
      "cell_type": "code",
      "source": [
        "x = torch.rand(2,2)\n",
        "y = torch.rand(2,2)\n",
        "\n",
        "print(y)\n",
        "y.add(x)\n",
        "print(y)"
      ],
      "metadata": {
        "colab": {
          "base_uri": "https://localhost:8080/"
        },
        "id": "fImszj-6ZVZ5",
        "outputId": "3ab9394c-b913-4c43-ba58-5cb3df17bc12"
      },
      "execution_count": null,
      "outputs": [
        {
          "output_type": "stream",
          "name": "stdout",
          "text": [
            "tensor([[0.5776, 0.9542],\n",
            "        [0.1353, 0.8210]])\n",
            "tensor([[0.5776, 0.9542],\n",
            "        [0.1353, 0.8210]])\n"
          ]
        }
      ]
    },
    {
      "cell_type": "code",
      "source": [
        "x = torch.rand(2,2)\n",
        "y = torch.rand(2,2)\n",
        "\n",
        "print(y)\n",
        "y.mul_(x)\n",
        "print(y)\n",
        "\n",
        "# An in-place operation is an operation that changes directly the content of a given Tensor without making a copy.\n",
        "# Inplace operations in pytorch are always postfixed with a _, like .add_() or .scatter_().\n",
        "# Python operations like += or *= are also inplace operations"
      ],
      "metadata": {
        "colab": {
          "base_uri": "https://localhost:8080/"
        },
        "id": "FxmmGNEYazij",
        "outputId": "569ea51c-52a5-4955-b0a9-46c1a87a6cca"
      },
      "execution_count": null,
      "outputs": [
        {
          "output_type": "stream",
          "name": "stdout",
          "text": [
            "tensor([[0.8884, 0.5123],\n",
            "        [0.9230, 0.3415]])\n",
            "tensor([[0.7241, 0.2958],\n",
            "        [0.0575, 0.1973]])\n"
          ]
        }
      ]
    },
    {
      "cell_type": "code",
      "source": [
        "# item() method\n",
        "\n",
        "x = torch.rand(2,3)\n",
        "print(x)\n",
        "print(x[1,1].item())"
      ],
      "metadata": {
        "colab": {
          "base_uri": "https://localhost:8080/"
        },
        "id": "5SP1nnHreAdF",
        "outputId": "4ba2874e-e90c-4ef8-8500-24292d6dab9a"
      },
      "execution_count": null,
      "outputs": [
        {
          "output_type": "stream",
          "name": "stdout",
          "text": [
            "tensor([[0.4001, 0.0604, 0.6763],\n",
            "        [0.2057, 0.4886, 0.9706]])\n",
            "0.4885726571083069\n"
          ]
        }
      ]
    },
    {
      "cell_type": "code",
      "source": [
        "# View Method (changes the shape of the tensors)\n",
        "\n",
        "x = torch.rand(4,4)\n",
        "print(x)\n",
        "y = x.view(16)\n",
        "print(y)"
      ],
      "metadata": {
        "colab": {
          "base_uri": "https://localhost:8080/"
        },
        "id": "YlxbJIzdgEh1",
        "outputId": "c29b734e-833b-48c6-bf4e-0db2219eef5a"
      },
      "execution_count": null,
      "outputs": [
        {
          "output_type": "stream",
          "name": "stdout",
          "text": [
            "tensor([[0.1086, 0.1764, 0.3171, 0.0112],\n",
            "        [0.6028, 0.4976, 0.6751, 0.9318],\n",
            "        [0.2670, 0.2212, 0.8749, 0.2185],\n",
            "        [0.4194, 0.8592, 0.3915, 0.8117]])\n",
            "tensor([0.1086, 0.1764, 0.3171, 0.0112, 0.6028, 0.4976, 0.6751, 0.9318, 0.2670,\n",
            "        0.2212, 0.8749, 0.2185, 0.4194, 0.8592, 0.3915, 0.8117])\n"
          ]
        }
      ]
    },
    {
      "cell_type": "code",
      "source": [
        "# View Method (changes the shape of the tensors)\n",
        "\n",
        "x = torch.rand(4,4)\n",
        "print(x)\n",
        "y = x.view(8,2)\n",
        "print(y)"
      ],
      "metadata": {
        "colab": {
          "base_uri": "https://localhost:8080/"
        },
        "id": "huEwAwSqgxYq",
        "outputId": "b57941d7-9ea6-4638-b58d-dc505e8a4759"
      },
      "execution_count": null,
      "outputs": [
        {
          "output_type": "stream",
          "name": "stdout",
          "text": [
            "tensor([[0.6482, 0.6212, 0.4623, 0.9616],\n",
            "        [0.8897, 0.3406, 0.9035, 0.6745],\n",
            "        [0.8285, 0.5102, 0.2383, 0.8298],\n",
            "        [0.0328, 0.2572, 0.7392, 0.1758]])\n",
            "tensor([[0.6482, 0.6212],\n",
            "        [0.4623, 0.9616],\n",
            "        [0.8897, 0.3406],\n",
            "        [0.9035, 0.6745],\n",
            "        [0.8285, 0.5102],\n",
            "        [0.2383, 0.8298],\n",
            "        [0.0328, 0.2572],\n",
            "        [0.7392, 0.1758]])\n"
          ]
        }
      ]
    },
    {
      "cell_type": "code",
      "source": [
        "# View Method (changes the shape of the tensors)\n",
        "\n",
        "x = torch.rand(4,4)\n",
        "print(x)\n",
        "y = x.view(-1,8)\n",
        "print(y)\n",
        "print(y.size())"
      ],
      "metadata": {
        "colab": {
          "base_uri": "https://localhost:8080/"
        },
        "id": "A9UTz3k2g3Hy",
        "outputId": "3f718ac6-8ea9-47a4-dc0b-8be780d87b08"
      },
      "execution_count": null,
      "outputs": [
        {
          "output_type": "stream",
          "name": "stdout",
          "text": [
            "tensor([[0.4653, 0.4950, 0.8361, 0.6175],\n",
            "        [0.4689, 0.0973, 0.1697, 0.6375],\n",
            "        [0.2712, 0.2196, 0.4445, 0.9650],\n",
            "        [0.5693, 0.6267, 0.9435, 0.5829]])\n",
            "tensor([[0.4653, 0.4950, 0.8361, 0.6175, 0.4689, 0.0973, 0.1697, 0.6375],\n",
            "        [0.2712, 0.2196, 0.4445, 0.9650, 0.5693, 0.6267, 0.9435, 0.5829]])\n",
            "torch.Size([2, 8])\n"
          ]
        }
      ]
    },
    {
      "cell_type": "code",
      "source": [
        "# Converting Torch_Tensor to Numpy\n",
        "import numpy as np\n",
        "\n",
        "a = torch.ones(5)\n",
        "print(a)\n",
        "b = a.numpy()\n",
        "print(type(b))"
      ],
      "metadata": {
        "colab": {
          "base_uri": "https://localhost:8080/"
        },
        "id": "r8G_TiS1iAnx",
        "outputId": "f0e84a47-6415-4c5b-9ee8-e280c006b9a4"
      },
      "execution_count": null,
      "outputs": [
        {
          "output_type": "stream",
          "name": "stdout",
          "text": [
            "tensor([1., 1., 1., 1., 1.])\n",
            "<class 'numpy.ndarray'>\n"
          ]
        }
      ]
    },
    {
      "cell_type": "code",
      "source": [
        "a = torch.ones(5)\n",
        "print(a)\n",
        "b = a.numpy()\n",
        "print(type(b))\n",
        "\n",
        "# If Tensors are on CPU & not the GPU then both objects shares the same memory Location.\n",
        "# This means if we change one then it reflects on other\n",
        "\n",
        "a.add_(1)\n",
        "print(a)\n",
        "print(b)"
      ],
      "metadata": {
        "colab": {
          "base_uri": "https://localhost:8080/"
        },
        "id": "-wYkw0s1ikhv",
        "outputId": "540bb1d8-99f1-4f80-ed0e-2b54d2fc2c82"
      },
      "execution_count": null,
      "outputs": [
        {
          "output_type": "stream",
          "name": "stdout",
          "text": [
            "tensor([1., 1., 1., 1., 1.])\n",
            "<class 'numpy.ndarray'>\n",
            "tensor([2., 2., 2., 2., 2.])\n",
            "[2. 2. 2. 2. 2.]\n"
          ]
        }
      ]
    },
    {
      "cell_type": "code",
      "source": [
        "# Converting Numpy to Torch_Tensor\n",
        "\n",
        "# https://pytorch.org/docs/stable/generated/torch.from_numpy.html      # from _numpy method documentation\n",
        "\n",
        "a = np.ones(5)\n",
        "print(a)\n",
        "b = torch.from_numpy(a)\n",
        "print(b)\n",
        "\n",
        "# If this is happen only when Tensors are on GPU\n",
        "# This means if we change one then it reflects on other\n",
        "\n",
        "a +=1\n",
        "\n",
        "print(a)\n",
        "print(b)"
      ],
      "metadata": {
        "colab": {
          "base_uri": "https://localhost:8080/"
        },
        "id": "mOsQNIQektqe",
        "outputId": "6992e0b9-1ded-46a3-fbda-20cd5b85b33a"
      },
      "execution_count": null,
      "outputs": [
        {
          "output_type": "stream",
          "name": "stdout",
          "text": [
            "[1. 1. 1. 1. 1.]\n",
            "tensor([1., 1., 1., 1., 1.], dtype=torch.float64)\n",
            "[2. 2. 2. 2. 2.]\n",
            "tensor([2., 2., 2., 2., 2.], dtype=torch.float64)\n"
          ]
        }
      ]
    },
    {
      "cell_type": "code",
      "source": [
        "# Cuda\n",
        "\n",
        "if torch.cuda.is_available():\n",
        "   device = torch.device(\"cuda\")\n",
        "   x = torch.ones(5, device=device)\n",
        "   y = torch.ones(5)\n",
        "   y = y.to(device)\n",
        "   z = x + y\n",
        "   z = z.to(\"cpu\")"
      ],
      "metadata": {
        "id": "c02IGTMTlpIa"
      },
      "execution_count": null,
      "outputs": []
    },
    {
      "cell_type": "code",
      "source": [
        "x = torch.ones(5, requires_grad=True)\n",
        "print(x)"
      ],
      "metadata": {
        "colab": {
          "base_uri": "https://localhost:8080/"
        },
        "id": "CgA1FumJqJCI",
        "outputId": "3a25c5f0-3053-4410-f428-9285fd821296"
      },
      "execution_count": null,
      "outputs": [
        {
          "output_type": "stream",
          "name": "stdout",
          "text": [
            "tensor([1., 1., 1., 1., 1.], requires_grad=True)\n"
          ]
        }
      ]
    },
    {
      "cell_type": "code",
      "source": [],
      "metadata": {
        "id": "T1RFN8_1qmjE"
      },
      "execution_count": null,
      "outputs": []
    }
  ]
}