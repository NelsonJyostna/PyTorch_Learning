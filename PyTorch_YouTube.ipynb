{
  "cells": [
    {
      "cell_type": "code",
      "execution_count": 284,
      "metadata": {
        "id": "zbAZsUO1Q3Wk"
      },
      "outputs": [],
      "source": [
        "# https://www.scaler.com/topics/pytorch/install-pytorch/"
      ]
    },
    {
      "cell_type": "code",
      "execution_count": 285,
      "metadata": {
        "colab": {
          "base_uri": "https://localhost:8080/"
        },
        "id": "KALwYUcyLjyq",
        "outputId": "8604217f-6a5f-4cf2-e425-aacfbfa684aa"
      },
      "outputs": [
        {
          "output_type": "execute_result",
          "data": {
            "text/plain": [
              "4"
            ]
          },
          "metadata": {},
          "execution_count": 285
        }
      ],
      "source": [
        "2+2"
      ]
    },
    {
      "cell_type": "code",
      "execution_count": 286,
      "metadata": {
        "id": "UE-bQJ6_LqUy"
      },
      "outputs": [],
      "source": [
        "import torch"
      ]
    },
    {
      "cell_type": "code",
      "execution_count": 287,
      "metadata": {
        "id": "ArMb2HN_LuUU"
      },
      "outputs": [],
      "source": [
        " #!pip list"
      ]
    },
    {
      "cell_type": "code",
      "execution_count": 288,
      "metadata": {
        "id": "lFAMPSfpMfqY"
      },
      "outputs": [],
      "source": [
        "# Tensors"
      ]
    },
    {
      "cell_type": "code",
      "execution_count": 289,
      "metadata": {
        "id": "xZ1txE1eQee8"
      },
      "outputs": [],
      "source": [
        "import numpy as np"
      ]
    },
    {
      "cell_type": "code",
      "execution_count": 290,
      "metadata": {
        "id": "C4takOmkRCle"
      },
      "outputs": [],
      "source": [
        "# List"
      ]
    },
    {
      "cell_type": "code",
      "execution_count": 291,
      "metadata": {
        "colab": {
          "base_uri": "https://localhost:8080/"
        },
        "id": "9qAQQq-2RGIn",
        "outputId": "75b37935-d285-47f1-d4d9-cf5074fcfbf2"
      },
      "outputs": [
        {
          "output_type": "execute_result",
          "data": {
            "text/plain": [
              "[[1, 2, 3, 4], [5, 6, 7, 8]]"
            ]
          },
          "metadata": {},
          "execution_count": 291
        }
      ],
      "source": [
        "my_list1 = [1,2,3,4]\n",
        "\n",
        "my_list = [ [1,2,3,4], [5,6,7,8] ]\n",
        "\n",
        "# my_list1\n",
        "my_list"
      ]
    },
    {
      "cell_type": "code",
      "execution_count": 292,
      "metadata": {
        "id": "rKvaOW0RR58P"
      },
      "outputs": [],
      "source": [
        "# Numpy_array"
      ]
    },
    {
      "cell_type": "code",
      "execution_count": 293,
      "metadata": {
        "colab": {
          "base_uri": "https://localhost:8080/"
        },
        "id": "TGX-Vjv6SaWl",
        "outputId": "5fcc0f8a-0129-4b41-88b3-781d0d27f827"
      },
      "outputs": [
        {
          "output_type": "execute_result",
          "data": {
            "text/plain": [
              "array([[0.75460678, 0.67358137, 0.85254325, 0.0684088 ],\n",
              "       [0.92291525, 0.81796055, 0.40593271, 0.95129441],\n",
              "       [0.63865591, 0.78684445, 0.11305376, 0.11276353]])"
            ]
          },
          "metadata": {},
          "execution_count": 293
        }
      ],
      "source": [
        "np1 = np.random.rand(3,4)\n",
        "np1"
      ]
    },
    {
      "cell_type": "code",
      "execution_count": 294,
      "metadata": {
        "colab": {
          "base_uri": "https://localhost:8080/"
        },
        "id": "uzBbGzJrSkiV",
        "outputId": "cfecb9e8-390f-4b3d-adc1-86891f633249"
      },
      "outputs": [
        {
          "output_type": "execute_result",
          "data": {
            "text/plain": [
              "dtype('float64')"
            ]
          },
          "metadata": {},
          "execution_count": 294
        }
      ],
      "source": [
        "np1.dtype"
      ]
    },
    {
      "cell_type": "code",
      "execution_count": 295,
      "metadata": {
        "id": "E0MDR-JqStsO"
      },
      "outputs": [],
      "source": [
        "# Tensors"
      ]
    },
    {
      "cell_type": "code",
      "execution_count": 296,
      "metadata": {
        "colab": {
          "base_uri": "https://localhost:8080/"
        },
        "id": "lpojUxWAS7Nq",
        "outputId": "0a6dbf45-344c-4018-eb3f-c5181301e0b3"
      },
      "outputs": [
        {
          "output_type": "execute_result",
          "data": {
            "text/plain": [
              "tensor([[ 0.0658, -0.3724,  2.4564, -0.1303],\n",
              "        [-0.1565,  1.0214, -0.6440, -2.8540],\n",
              "        [-0.2684,  0.8909,  0.0639,  2.4797]])"
            ]
          },
          "metadata": {},
          "execution_count": 296
        }
      ],
      "source": [
        "tensors_2d = torch.randn(3,4)\n",
        "\n",
        "tensors_2d"
      ]
    },
    {
      "cell_type": "code",
      "execution_count": 297,
      "metadata": {
        "colab": {
          "base_uri": "https://localhost:8080/"
        },
        "id": "KdV3rRYmTFeS",
        "outputId": "a31ec1e9-92c5-489a-e6f2-7b2b9c033efd"
      },
      "outputs": [
        {
          "output_type": "execute_result",
          "data": {
            "text/plain": [
              "tensor([[[ 0.6892, -1.3587, -2.0165,  0.1054],\n",
              "         [-0.7179, -0.4975, -1.9461,  1.0249],\n",
              "         [ 0.0464,  0.1415, -0.7122,  1.6438]],\n",
              "\n",
              "        [[-0.6789, -0.5063,  0.0081, -0.6900],\n",
              "         [-0.0877,  0.1972, -0.9745, -0.1929],\n",
              "         [-0.6442, -1.7741,  1.3152,  0.3069]]])"
            ]
          },
          "metadata": {},
          "execution_count": 297
        }
      ],
      "source": [
        "tensors_3d = torch.randn(2,3,4)\n",
        "\n",
        "tensors_3d"
      ]
    },
    {
      "cell_type": "code",
      "execution_count": 298,
      "metadata": {
        "colab": {
          "base_uri": "https://localhost:8080/"
        },
        "id": "nVohksAvTvvO",
        "outputId": "2b9dd3ef-188b-4154-9bee-a055a0d63d0a"
      },
      "outputs": [
        {
          "output_type": "execute_result",
          "data": {
            "text/plain": [
              "tensor([[[-0.3496,  1.3711,  1.4020,  0.9461, -0.4195],\n",
              "         [-0.6321,  1.1138,  0.6618,  0.1535,  1.5968]],\n",
              "\n",
              "        [[ 0.2469, -0.1342, -0.0286, -0.7181, -2.6734],\n",
              "         [-1.4828, -3.1679,  2.1669, -0.4310, -0.5569]],\n",
              "\n",
              "        [[ 0.1605,  0.4445, -0.2236,  0.9675, -0.7403],\n",
              "         [-0.1784,  0.7069, -2.2331,  0.7941,  0.7072]]])"
            ]
          },
          "metadata": {},
          "execution_count": 298
        }
      ],
      "source": [
        "tensors_3d = torch.randn(3,2,5)\n",
        "\n",
        "tensors_3d"
      ]
    },
    {
      "cell_type": "code",
      "execution_count": 299,
      "metadata": {
        "colab": {
          "base_uri": "https://localhost:8080/"
        },
        "id": "v_TxVYIbWLHl",
        "outputId": "b70887f9-6b92-4626-fecd-33826d8c791a"
      },
      "outputs": [
        {
          "output_type": "execute_result",
          "data": {
            "text/plain": [
              "torch.float32"
            ]
          },
          "metadata": {},
          "execution_count": 299
        }
      ],
      "source": [
        "tensors_3d.dtype"
      ]
    },
    {
      "cell_type": "code",
      "execution_count": 300,
      "metadata": {
        "colab": {
          "base_uri": "https://localhost:8080/"
        },
        "id": "9Tje_uZ_Yh3a",
        "outputId": "481985ca-f594-4070-bccc-820675608a35"
      },
      "outputs": [
        {
          "output_type": "execute_result",
          "data": {
            "text/plain": [
              "torch.layout"
            ]
          },
          "metadata": {},
          "execution_count": 300
        }
      ],
      "source": [
        "torch.layout"
      ]
    },
    {
      "cell_type": "code",
      "execution_count": 301,
      "metadata": {
        "colab": {
          "base_uri": "https://localhost:8080/"
        },
        "id": "si_LrLr2VUgO",
        "outputId": "89fd56df-8ba4-40ca-df76-6a741d6ce9ec"
      },
      "outputs": [
        {
          "output_type": "execute_result",
          "data": {
            "text/plain": [
              "tensor([[0.7546, 0.6736, 0.8525, 0.0684],\n",
              "        [0.9229, 0.8180, 0.4059, 0.9513],\n",
              "        [0.6387, 0.7868, 0.1131, 0.1128]], dtype=torch.float64)"
            ]
          },
          "metadata": {},
          "execution_count": 301
        }
      ],
      "source": [
        "# create tensor out of numpy array\n",
        "\n",
        "my_tensor = torch.tensor(np1)\n",
        "\n",
        "my_tensor"
      ]
    },
    {
      "cell_type": "code",
      "execution_count": 302,
      "metadata": {
        "colab": {
          "base_uri": "https://localhost:8080/"
        },
        "id": "RrZDUGLmV7-N",
        "outputId": "59089ad5-f802-4122-8f28-d8a937b35e29"
      },
      "outputs": [
        {
          "output_type": "execute_result",
          "data": {
            "text/plain": [
              "tensor([0, 1, 2, 3, 4, 5, 6, 7, 8, 9])"
            ]
          },
          "metadata": {},
          "execution_count": 302
        }
      ],
      "source": [
        "my_torch = torch.arange(10)\n",
        "my_torch"
      ]
    },
    {
      "cell_type": "code",
      "execution_count": 303,
      "metadata": {
        "colab": {
          "base_uri": "https://localhost:8080/"
        },
        "id": "sTtKSFmLnGgT",
        "outputId": "47ec1de8-1872-418e-e46e-d2136dfdba05"
      },
      "outputs": [
        {
          "output_type": "execute_result",
          "data": {
            "text/plain": [
              "tensor([[0, 1, 2, 3, 4],\n",
              "        [5, 6, 7, 8, 9]])"
            ]
          },
          "metadata": {},
          "execution_count": 303
        }
      ],
      "source": [
        "my_torch = my_torch.reshape(2,5)\n",
        "my_torch"
      ]
    },
    {
      "cell_type": "code",
      "execution_count": 304,
      "metadata": {
        "colab": {
          "base_uri": "https://localhost:8080/"
        },
        "id": "GoOY79s7odqs",
        "outputId": "2aa6a8a3-1de5-4ae4-b900-22bd9a670e9f"
      },
      "outputs": [
        {
          "output_type": "execute_result",
          "data": {
            "text/plain": [
              "tensor([0, 1, 2, 3, 4, 5, 6, 7, 8, 9])"
            ]
          },
          "metadata": {},
          "execution_count": 304
        }
      ],
      "source": [
        "# Reshape if we dont know the number of items using -1\n",
        "my_torch2 = torch.arange(10)\n",
        "my_torch2"
      ]
    },
    {
      "cell_type": "code",
      "execution_count": 305,
      "metadata": {
        "colab": {
          "base_uri": "https://localhost:8080/"
        },
        "id": "1DrcnWKvqpSK",
        "outputId": "6fe07a02-8a32-484d-dc09-414cd8725b0e"
      },
      "outputs": [
        {
          "output_type": "execute_result",
          "data": {
            "text/plain": [
              "tensor([[0, 1, 2, 3, 4],\n",
              "        [5, 6, 7, 8, 9]])"
            ]
          },
          "metadata": {},
          "execution_count": 305
        }
      ],
      "source": [
        "# When we are unaware of any dimension of the array then we are allowed to have only one “unknown” dimension.\n",
        "# This represents that we do not have to specify any number for one of that dimensions in the reshape method.\n",
        "# We pass -1 as the value for the unknown dimension, and NumPy will calculate this unknown.\n",
        "\n",
        "# https://www.geeksforgeeks.org/what-does-1-mean-in-numpy-reshape/\n",
        "\n",
        "my_torch2 = my_torch2.reshape(2,-1)\n",
        "my_torch2"
      ]
    },
    {
      "cell_type": "code",
      "execution_count": 306,
      "metadata": {
        "colab": {
          "base_uri": "https://localhost:8080/"
        },
        "id": "3IWdW-2vrNN8",
        "outputId": "069b5ae7-9202-41e1-deef-1da45b6506e4"
      },
      "outputs": [
        {
          "output_type": "execute_result",
          "data": {
            "text/plain": [
              "tensor([ 0,  1,  2,  3,  4,  5,  6,  7,  8,  9, 10, 11, 12, 13, 14])"
            ]
          },
          "metadata": {},
          "execution_count": 306
        }
      ],
      "source": [
        "my_torch21 = torch.arange(15)\n",
        "my_torch21"
      ]
    },
    {
      "cell_type": "code",
      "execution_count": 307,
      "metadata": {
        "colab": {
          "base_uri": "https://localhost:8080/"
        },
        "id": "trAI0yK1sURY",
        "outputId": "058874d7-239f-4735-db15-8172369cff41"
      },
      "outputs": [
        {
          "output_type": "execute_result",
          "data": {
            "text/plain": [
              "tensor([[ 0,  1,  2,  3,  4],\n",
              "        [ 5,  6,  7,  8,  9],\n",
              "        [10, 11, 12, 13, 14]])"
            ]
          },
          "metadata": {},
          "execution_count": 307
        }
      ],
      "source": [
        "my_torch21 = my_torch21.reshape(3,-1)\n",
        "my_torch21"
      ]
    },
    {
      "cell_type": "code",
      "execution_count": 308,
      "metadata": {
        "colab": {
          "base_uri": "https://localhost:8080/"
        },
        "id": "mDB2e3bVsXSL",
        "outputId": "92b89954-ff16-4fb6-f578-bb8954a93768"
      },
      "outputs": [
        {
          "output_type": "execute_result",
          "data": {
            "text/plain": [
              "tensor([0, 1, 2, 3, 4, 5, 6, 7, 8, 9])"
            ]
          },
          "metadata": {},
          "execution_count": 308
        }
      ],
      "source": [
        "my_torch3 = torch.arange(10)\n",
        "my_torch3"
      ]
    },
    {
      "cell_type": "code",
      "execution_count": 309,
      "metadata": {
        "id": "AYcuN7bxuLfy"
      },
      "outputs": [],
      "source": [
        "# Difference bet reshape & view\n",
        "\n",
        "# https://stackoverflow.com/questions/49643225/whats-the-difference-between-reshape-and-view-in-pytorch\n"
      ]
    },
    {
      "cell_type": "code",
      "execution_count": 310,
      "metadata": {
        "colab": {
          "base_uri": "https://localhost:8080/"
        },
        "id": "DyHuhnxztwDo",
        "outputId": "dcabdb8a-862c-48e8-d7e0-0eb358e69fb2"
      },
      "outputs": [
        {
          "output_type": "execute_result",
          "data": {
            "text/plain": [
              "tensor([[0, 1, 2, 3, 4],\n",
              "        [5, 6, 7, 8, 9]])"
            ]
          },
          "metadata": {},
          "execution_count": 310
        }
      ],
      "source": [
        "my_torch3 = my_torch3.view(2,5)\n",
        "my_torch3"
      ]
    },
    {
      "cell_type": "code",
      "execution_count": 311,
      "metadata": {
        "colab": {
          "base_uri": "https://localhost:8080/"
        },
        "id": "L5t14mRMyW-R",
        "outputId": "b96f66c7-5da2-4a04-dd99-a60eb4f53c24"
      },
      "outputs": [
        {
          "output_type": "execute_result",
          "data": {
            "text/plain": [
              "tensor([0, 1, 2, 3, 4, 5, 6, 7, 8, 9])"
            ]
          },
          "metadata": {},
          "execution_count": 311
        }
      ],
      "source": [
        "# With reshape & view, they will update\n",
        "\n",
        "my_torch5 = torch.arange(10)\n",
        "my_torch5"
      ]
    },
    {
      "cell_type": "code",
      "source": [
        "my_torch51 = my_torch5.reshape(2,5)\n",
        "my_torch51"
      ],
      "metadata": {
        "colab": {
          "base_uri": "https://localhost:8080/"
        },
        "id": "0Ie8VwXkLiTC",
        "outputId": "8697b483-8cac-4d93-eb15-7c0366986e6b"
      },
      "execution_count": 312,
      "outputs": [
        {
          "output_type": "execute_result",
          "data": {
            "text/plain": [
              "tensor([[0, 1, 2, 3, 4],\n",
              "        [5, 6, 7, 8, 9]])"
            ]
          },
          "metadata": {},
          "execution_count": 312
        }
      ]
    },
    {
      "cell_type": "code",
      "source": [
        "my_torch5[1]= 4141\n",
        "my_torch5"
      ],
      "metadata": {
        "colab": {
          "base_uri": "https://localhost:8080/"
        },
        "id": "mDosZMYsL5Di",
        "outputId": "b9e60638-7bf3-4dcb-db8e-d7e95a8fefb6"
      },
      "execution_count": 313,
      "outputs": [
        {
          "output_type": "execute_result",
          "data": {
            "text/plain": [
              "tensor([   0, 4141,    2,    3,    4,    5,    6,    7,    8,    9])"
            ]
          },
          "metadata": {},
          "execution_count": 313
        }
      ]
    },
    {
      "cell_type": "code",
      "source": [
        "my_torch51"
      ],
      "metadata": {
        "colab": {
          "base_uri": "https://localhost:8080/"
        },
        "id": "Jko045GRMIHa",
        "outputId": "e00e4df3-b300-41ed-cf6a-21db047ba8fe"
      },
      "execution_count": 314,
      "outputs": [
        {
          "output_type": "execute_result",
          "data": {
            "text/plain": [
              "tensor([[   0, 4141,    2,    3,    4],\n",
              "        [   5,    6,    7,    8,    9]])"
            ]
          },
          "metadata": {},
          "execution_count": 314
        }
      ]
    },
    {
      "cell_type": "code",
      "source": [
        "my_torch81=torch.arange(10)\n",
        "my_torch81"
      ],
      "metadata": {
        "colab": {
          "base_uri": "https://localhost:8080/"
        },
        "id": "kr0GIsP0MUkT",
        "outputId": "7559bbed-65a3-4da1-c140-d9945c5e81c6"
      },
      "execution_count": 315,
      "outputs": [
        {
          "output_type": "execute_result",
          "data": {
            "text/plain": [
              "tensor([0, 1, 2, 3, 4, 5, 6, 7, 8, 9])"
            ]
          },
          "metadata": {},
          "execution_count": 315
        }
      ]
    },
    {
      "cell_type": "code",
      "execution_count": 316,
      "metadata": {
        "colab": {
          "base_uri": "https://localhost:8080/"
        },
        "id": "BWSD_zQpzWGQ",
        "outputId": "4dc76776-bfec-40bd-c55f-bb687abeefbb"
      },
      "outputs": [
        {
          "output_type": "execute_result",
          "data": {
            "text/plain": [
              "tensor([[0, 1, 2, 3, 4],\n",
              "        [5, 6, 7, 8, 9]])"
            ]
          },
          "metadata": {},
          "execution_count": 316
        }
      ],
      "source": [
        "my_torch6 = my_torch81.view(2,5)\n",
        "my_torch6"
      ]
    },
    {
      "cell_type": "code",
      "source": [
        "my_torch81[1]= 5152\n",
        "my_torch81"
      ],
      "metadata": {
        "colab": {
          "base_uri": "https://localhost:8080/"
        },
        "id": "0rMkruicMgAd",
        "outputId": "61f0bac1-cf4d-4c30-cd25-c28636c741aa"
      },
      "execution_count": 317,
      "outputs": [
        {
          "output_type": "execute_result",
          "data": {
            "text/plain": [
              "tensor([   0, 5152,    2,    3,    4,    5,    6,    7,    8,    9])"
            ]
          },
          "metadata": {},
          "execution_count": 317
        }
      ]
    },
    {
      "cell_type": "code",
      "source": [
        "my_torch6"
      ],
      "metadata": {
        "colab": {
          "base_uri": "https://localhost:8080/"
        },
        "id": "lnm4MyUPMgnI",
        "outputId": "ec5b6d7e-dd0e-4a66-f4e8-18531033beac"
      },
      "execution_count": 318,
      "outputs": [
        {
          "output_type": "execute_result",
          "data": {
            "text/plain": [
              "tensor([[   0, 5152,    2,    3,    4],\n",
              "        [   5,    6,    7,    8,    9]])"
            ]
          },
          "metadata": {},
          "execution_count": 318
        }
      ]
    },
    {
      "cell_type": "code",
      "source": [
        "# SLices\n",
        "\n",
        "my_torch7 = torch.arange(10)\n",
        "my_torch7"
      ],
      "metadata": {
        "colab": {
          "base_uri": "https://localhost:8080/"
        },
        "id": "64WeaXPKMyUi",
        "outputId": "267ea5be-1b7b-4913-a3a7-1f128ae899c3"
      },
      "execution_count": 319,
      "outputs": [
        {
          "output_type": "execute_result",
          "data": {
            "text/plain": [
              "tensor([0, 1, 2, 3, 4, 5, 6, 7, 8, 9])"
            ]
          },
          "metadata": {},
          "execution_count": 319
        }
      ]
    },
    {
      "cell_type": "code",
      "source": [
        "# Grab a specific Item\n",
        "my_torch7[7]"
      ],
      "metadata": {
        "colab": {
          "base_uri": "https://localhost:8080/"
        },
        "id": "VuwlE22-MyaA",
        "outputId": "b823341e-f2c3-4498-a6d6-f79b055dd295"
      },
      "execution_count": 320,
      "outputs": [
        {
          "output_type": "execute_result",
          "data": {
            "text/plain": [
              "tensor(7)"
            ]
          },
          "metadata": {},
          "execution_count": 320
        }
      ]
    },
    {
      "cell_type": "code",
      "source": [
        "# Grab slice\n",
        "my_torch8 =my_torch7.reshape(5,2)\n",
        "my_torch8"
      ],
      "metadata": {
        "colab": {
          "base_uri": "https://localhost:8080/"
        },
        "id": "UWof5q6rMygC",
        "outputId": "820e3df6-f98e-4473-9eb4-150f59481d6c"
      },
      "execution_count": 321,
      "outputs": [
        {
          "output_type": "execute_result",
          "data": {
            "text/plain": [
              "tensor([[0, 1],\n",
              "        [2, 3],\n",
              "        [4, 5],\n",
              "        [6, 7],\n",
              "        [8, 9]])"
            ]
          },
          "metadata": {},
          "execution_count": 321
        }
      ]
    },
    {
      "cell_type": "code",
      "source": [
        "my_torch8[:, 1]"
      ],
      "metadata": {
        "colab": {
          "base_uri": "https://localhost:8080/"
        },
        "id": "-RMk67GlN3uJ",
        "outputId": "070c605a-0bce-4425-e233-285a8d0e8f98"
      },
      "execution_count": 322,
      "outputs": [
        {
          "output_type": "execute_result",
          "data": {
            "text/plain": [
              "tensor([1, 3, 5, 7, 9])"
            ]
          },
          "metadata": {},
          "execution_count": 322
        }
      ]
    },
    {
      "cell_type": "code",
      "source": [
        "# Return a column\n",
        "my_torch8[:, 1:]"
      ],
      "metadata": {
        "colab": {
          "base_uri": "https://localhost:8080/"
        },
        "id": "kZxOzHSLN3xu",
        "outputId": "b68997f7-0bf0-4c53-bd90-480a7258be99"
      },
      "execution_count": 323,
      "outputs": [
        {
          "output_type": "execute_result",
          "data": {
            "text/plain": [
              "tensor([[1],\n",
              "        [3],\n",
              "        [5],\n",
              "        [7],\n",
              "        [9]])"
            ]
          },
          "metadata": {},
          "execution_count": 323
        }
      ]
    },
    {
      "cell_type": "code",
      "source": [
        "# Tensor MATH OPerations\n",
        "# https://pytorch.org/docs/stable/torch.html#math-operations\n",
        "\n",
        "\n",
        "tensor_a = torch.tensor([1,2,3,4])\n",
        "tensor_b = torch.tensor([5,6,7,8])"
      ],
      "metadata": {
        "id": "UXV2iGX5N32k"
      },
      "execution_count": 324,
      "outputs": []
    },
    {
      "cell_type": "code",
      "source": [
        "# Addition\n",
        "tensor_a + tensor_b"
      ],
      "metadata": {
        "colab": {
          "base_uri": "https://localhost:8080/"
        },
        "id": "QnYYp5AePA_y",
        "outputId": "08b2f682-e8cf-47ba-dc00-25480c4ff96e"
      },
      "execution_count": 325,
      "outputs": [
        {
          "output_type": "execute_result",
          "data": {
            "text/plain": [
              "tensor([ 6,  8, 10, 12])"
            ]
          },
          "metadata": {},
          "execution_count": 325
        }
      ]
    },
    {
      "cell_type": "code",
      "source": [
        "torch.add(tensor_a, tensor_b)"
      ],
      "metadata": {
        "id": "3EChUGvrN37n",
        "colab": {
          "base_uri": "https://localhost:8080/"
        },
        "outputId": "7b159749-9fe1-45ac-ff0d-cb88b961763e"
      },
      "execution_count": 326,
      "outputs": [
        {
          "output_type": "execute_result",
          "data": {
            "text/plain": [
              "tensor([ 6,  8, 10, 12])"
            ]
          },
          "metadata": {},
          "execution_count": 326
        }
      ]
    },
    {
      "cell_type": "code",
      "source": [
        "# Subtraction\n",
        "tensor_b - tensor_a"
      ],
      "metadata": {
        "colab": {
          "base_uri": "https://localhost:8080/"
        },
        "id": "wda7jietYnlO",
        "outputId": "93192794-13f9-4a19-beaf-a4cea47f7dd0"
      },
      "execution_count": 327,
      "outputs": [
        {
          "output_type": "execute_result",
          "data": {
            "text/plain": [
              "tensor([4, 4, 4, 4])"
            ]
          },
          "metadata": {},
          "execution_count": 327
        }
      ]
    },
    {
      "cell_type": "code",
      "source": [
        "torch.subtract(tensor_b, tensor_a)"
      ],
      "metadata": {
        "colab": {
          "base_uri": "https://localhost:8080/"
        },
        "id": "qKNIzQV9Ynn_",
        "outputId": "2d62f751-32d0-4b31-eb40-081f7fb864d6"
      },
      "execution_count": 328,
      "outputs": [
        {
          "output_type": "execute_result",
          "data": {
            "text/plain": [
              "tensor([4, 4, 4, 4])"
            ]
          },
          "metadata": {},
          "execution_count": 328
        }
      ]
    },
    {
      "cell_type": "code",
      "source": [
        "# Multiplication\n",
        "tensor_a * tensor_b"
      ],
      "metadata": {
        "colab": {
          "base_uri": "https://localhost:8080/"
        },
        "id": "JcGY-MEWYnui",
        "outputId": "d6b4e702-7da3-4fdc-974c-c5def8065c35"
      },
      "execution_count": 329,
      "outputs": [
        {
          "output_type": "execute_result",
          "data": {
            "text/plain": [
              "tensor([ 5, 12, 21, 32])"
            ]
          },
          "metadata": {},
          "execution_count": 329
        }
      ]
    },
    {
      "cell_type": "code",
      "source": [
        "torch.mul(tensor_a, tensor_b)"
      ],
      "metadata": {
        "colab": {
          "base_uri": "https://localhost:8080/"
        },
        "id": "ZhUCHhBGYny8",
        "outputId": "12d6aea4-db2f-420b-b498-52304a57ffe6"
      },
      "execution_count": 330,
      "outputs": [
        {
          "output_type": "execute_result",
          "data": {
            "text/plain": [
              "tensor([ 5, 12, 21, 32])"
            ]
          },
          "metadata": {},
          "execution_count": 330
        }
      ]
    },
    {
      "cell_type": "code",
      "source": [
        "# Division\n",
        "tensor_b / tensor_a"
      ],
      "metadata": {
        "colab": {
          "base_uri": "https://localhost:8080/"
        },
        "id": "RX0Zt7n5Z74T",
        "outputId": "2a3dd944-3fd6-4bf6-ecca-d74a0303f523"
      },
      "execution_count": 331,
      "outputs": [
        {
          "output_type": "execute_result",
          "data": {
            "text/plain": [
              "tensor([5.0000, 3.0000, 2.3333, 2.0000])"
            ]
          },
          "metadata": {},
          "execution_count": 331
        }
      ]
    },
    {
      "cell_type": "code",
      "source": [
        "torch.div(tensor_b, tensor_a)"
      ],
      "metadata": {
        "colab": {
          "base_uri": "https://localhost:8080/"
        },
        "id": "OoMUMh62Z77U",
        "outputId": "fa4e5a58-f09b-4c7a-d11e-03ba59276c2e"
      },
      "execution_count": 332,
      "outputs": [
        {
          "output_type": "execute_result",
          "data": {
            "text/plain": [
              "tensor([5.0000, 3.0000, 2.3333, 2.0000])"
            ]
          },
          "metadata": {},
          "execution_count": 332
        }
      ]
    },
    {
      "cell_type": "code",
      "source": [
        "# Remainder Modulus\n",
        "tensor_b % tensor_a"
      ],
      "metadata": {
        "colab": {
          "base_uri": "https://localhost:8080/"
        },
        "id": "y5A20NtEZ7-g",
        "outputId": "33988e6c-c06d-4a0a-c1cf-ef5923b2fe69"
      },
      "execution_count": 333,
      "outputs": [
        {
          "output_type": "execute_result",
          "data": {
            "text/plain": [
              "tensor([0, 0, 1, 0])"
            ]
          },
          "metadata": {},
          "execution_count": 333
        }
      ]
    },
    {
      "cell_type": "code",
      "source": [
        "torch.remainder(tensor_b, tensor_a)"
      ],
      "metadata": {
        "colab": {
          "base_uri": "https://localhost:8080/"
        },
        "id": "K-Z1h58OZ8IO",
        "outputId": "24b04099-5bc7-4394-8d67-1aaf5f8f9521"
      },
      "execution_count": 334,
      "outputs": [
        {
          "output_type": "execute_result",
          "data": {
            "text/plain": [
              "tensor([0, 0, 1, 0])"
            ]
          },
          "metadata": {},
          "execution_count": 334
        }
      ]
    },
    {
      "cell_type": "code",
      "source": [
        "# POWER\n",
        "tensor_b ** tensor_a"
      ],
      "metadata": {
        "colab": {
          "base_uri": "https://localhost:8080/"
        },
        "id": "-jwGIck-bXDb",
        "outputId": "b705f853-dde3-4de3-bafb-82492ab0ee7b"
      },
      "execution_count": 335,
      "outputs": [
        {
          "output_type": "execute_result",
          "data": {
            "text/plain": [
              "tensor([   5,   36,  343, 4096])"
            ]
          },
          "metadata": {},
          "execution_count": 335
        }
      ]
    },
    {
      "cell_type": "code",
      "source": [
        "torch.pow(tensor_b, tensor_a)"
      ],
      "metadata": {
        "colab": {
          "base_uri": "https://localhost:8080/"
        },
        "id": "1DP3oXOHbXGj",
        "outputId": "8d03375a-c09e-4520-c5e8-e756abd04711"
      },
      "execution_count": 336,
      "outputs": [
        {
          "output_type": "execute_result",
          "data": {
            "text/plain": [
              "tensor([   5,   36,  343, 4096])"
            ]
          },
          "metadata": {},
          "execution_count": 336
        }
      ]
    },
    {
      "cell_type": "code",
      "source": [
        "torch.pow(tensor_a, tensor_b)"
      ],
      "metadata": {
        "colab": {
          "base_uri": "https://localhost:8080/"
        },
        "id": "cYPAuEbXbXJb",
        "outputId": "f5969c01-5676-41b7-e8a4-bf964d91a7a3"
      },
      "execution_count": 337,
      "outputs": [
        {
          "output_type": "execute_result",
          "data": {
            "text/plain": [
              "tensor([    1,    64,  2187, 65536])"
            ]
          },
          "metadata": {},
          "execution_count": 337
        }
      ]
    },
    {
      "cell_type": "code",
      "source": [
        "# ANother way to add or LongHand\n",
        "tensor_a.add(tensor_b)"
      ],
      "metadata": {
        "colab": {
          "base_uri": "https://localhost:8080/"
        },
        "id": "NDAazUc8bXOl",
        "outputId": "9a7129d1-5d99-4667-d09e-c343eb46a097"
      },
      "execution_count": 338,
      "outputs": [
        {
          "output_type": "execute_result",
          "data": {
            "text/plain": [
              "tensor([ 6,  8, 10, 12])"
            ]
          },
          "metadata": {},
          "execution_count": 338
        }
      ]
    },
    {
      "cell_type": "code",
      "source": [
        "# Reassignement\n",
        "tensor_a + tensor_b"
      ],
      "metadata": {
        "colab": {
          "base_uri": "https://localhost:8080/"
        },
        "id": "ONgfWG8LbXRZ",
        "outputId": "f96b03ac-5588-4c63-9b6a-e092fbb5ebc9"
      },
      "execution_count": 339,
      "outputs": [
        {
          "output_type": "execute_result",
          "data": {
            "text/plain": [
              "tensor([ 6,  8, 10, 12])"
            ]
          },
          "metadata": {},
          "execution_count": 339
        }
      ]
    },
    {
      "cell_type": "code",
      "source": [
        "tensor_a"
      ],
      "metadata": {
        "colab": {
          "base_uri": "https://localhost:8080/"
        },
        "id": "OFrurnPSbXUS",
        "outputId": "e3f155d7-ab08-4677-8a71-7a02d1ab4f07"
      },
      "execution_count": 340,
      "outputs": [
        {
          "output_type": "execute_result",
          "data": {
            "text/plain": [
              "tensor([1, 2, 3, 4])"
            ]
          },
          "metadata": {},
          "execution_count": 340
        }
      ]
    },
    {
      "cell_type": "code",
      "source": [
        "tensor_a.add(tensor_b)"
      ],
      "metadata": {
        "colab": {
          "base_uri": "https://localhost:8080/"
        },
        "id": "kmVol6T2cndk",
        "outputId": "2210ea9a-2f81-467c-bfc1-22b95cc42330"
      },
      "execution_count": 342,
      "outputs": [
        {
          "output_type": "execute_result",
          "data": {
            "text/plain": [
              "tensor([ 6,  8, 10, 12])"
            ]
          },
          "metadata": {},
          "execution_count": 342
        }
      ]
    },
    {
      "cell_type": "code",
      "source": [
        "tensor_a"
      ],
      "metadata": {
        "colab": {
          "base_uri": "https://localhost:8080/"
        },
        "id": "Ri97R8Zlcng_",
        "outputId": "926397b6-f074-497e-fbe2-49341fe0d3d1"
      },
      "execution_count": 343,
      "outputs": [
        {
          "output_type": "execute_result",
          "data": {
            "text/plain": [
              "tensor([1, 2, 3, 4])"
            ]
          },
          "metadata": {},
          "execution_count": 343
        }
      ]
    },
    {
      "cell_type": "code",
      "source": [
        "tensor_a = tensor_a + tensor_b\n",
        "tensor_a"
      ],
      "metadata": {
        "colab": {
          "base_uri": "https://localhost:8080/"
        },
        "id": "xPuf6ZnDcnj-",
        "outputId": "cbf7120f-fa51-4256-be14-c867466e1377"
      },
      "execution_count": 344,
      "outputs": [
        {
          "output_type": "execute_result",
          "data": {
            "text/plain": [
              "tensor([ 6,  8, 10, 12])"
            ]
          },
          "metadata": {},
          "execution_count": 344
        }
      ]
    },
    {
      "cell_type": "code",
      "source": [
        "tensor_a"
      ],
      "metadata": {
        "colab": {
          "base_uri": "https://localhost:8080/"
        },
        "id": "TZUSm56mdnmq",
        "outputId": "8c8aec09-6c25-43aa-cd03-759faea84705"
      },
      "execution_count": 384,
      "outputs": [
        {
          "output_type": "execute_result",
          "data": {
            "text/plain": [
              "tensor([ 6,  8, 10, 12])"
            ]
          },
          "metadata": {},
          "execution_count": 384
        }
      ]
    },
    {
      "cell_type": "code",
      "source": [],
      "metadata": {
        "id": "Ug7LGglMdnpo"
      },
      "execution_count": 344,
      "outputs": []
    },
    {
      "cell_type": "code",
      "source": [],
      "metadata": {
        "id": "bxNUEb_4cnrc"
      },
      "execution_count": 344,
      "outputs": []
    },
    {
      "cell_type": "code",
      "source": [
        "# Neural Network\n",
        "\n",
        "import torch.nn as nn\n",
        "import torch.nn.functional as F"
      ],
      "metadata": {
        "id": "4Y-S-bIduSp1"
      },
      "execution_count": 345,
      "outputs": []
    },
    {
      "cell_type": "code",
      "source": [
        "# Create a Model class that inherits as nn.Module\n",
        "class Model(nn.Module):\n",
        "          # Input Layer (4 features of the flower)\n",
        "          # Hidden Layer 1 (Number of Neurons)\n",
        "          # Hidden Layer 2 (Number of Neurons)\n",
        "          # Output layer (classes of iris flowers)\n",
        "\n",
        "         def __init__(self, in_features=4, h1=8, h2=9, out_features=3):\n",
        "              super().__init__()    # Instantiate our nn.Module\n",
        "              self.fc1 = nn.Linear(in_features, h1)\n",
        "              self.fc2 = nn.Linear(h1, h2)\n",
        "              self.out = nn.Linear(h2, out_features)\n",
        "\n",
        "         def forward(self, x):\n",
        "            x = F.relu(self.fc1(x))\n",
        "            x = F.relu(self.fc2(x))\n",
        "            x = self.out(x)\n",
        "            return x\n"
      ],
      "metadata": {
        "id": "zNFGiCC9Udq1"
      },
      "execution_count": 346,
      "outputs": []
    },
    {
      "cell_type": "code",
      "source": [
        "# Pick a manual seed for randomization\n",
        "\n",
        "# https://pytorch.org/docs/stable/generated/torch.manual_seed.html         # Documentation of manual seed\n",
        "# https://www.slingacademy.com/article/using-manual_seed-function-in-pytorch/    # Documentation of manual seed\n",
        "\n",
        "torch.manual_seed(41)\n",
        "\n",
        "# Create an Instance of Model\n",
        "model = Model()"
      ],
      "metadata": {
        "id": "3Kxr84KIFA8w"
      },
      "execution_count": 347,
      "outputs": []
    },
    {
      "cell_type": "code",
      "source": [
        "import pandas as pd\n",
        "import matplotlib.pyplot as plt\n",
        "%matplotlib inline"
      ],
      "metadata": {
        "id": "n7FWAtqAHOlD"
      },
      "execution_count": 348,
      "outputs": []
    },
    {
      "cell_type": "code",
      "source": [
        "# url = ' '\n",
        "\n",
        "my_df = pd.read_csv('/content/sample_data/Iris.csv')"
      ],
      "metadata": {
        "id": "--1e7KZyfwUH"
      },
      "execution_count": 349,
      "outputs": []
    },
    {
      "cell_type": "code",
      "source": [
        "my_df.head(5)"
      ],
      "metadata": {
        "colab": {
          "base_uri": "https://localhost:8080/",
          "height": 206
        },
        "id": "TVoZWS-QhNwH",
        "outputId": "b406b708-a51b-4d1f-f8fb-62a20a6b4899"
      },
      "execution_count": 350,
      "outputs": [
        {
          "output_type": "execute_result",
          "data": {
            "text/plain": [
              "   Id  SepalLengthCm  SepalWidthCm  PetalLengthCm  PetalWidthCm      Species\n",
              "0   1            5.1           3.5            1.4           0.2  Iris-setosa\n",
              "1   2            4.9           3.0            1.4           0.2  Iris-setosa\n",
              "2   3            4.7           3.2            1.3           0.2  Iris-setosa\n",
              "3   4            4.6           3.1            1.5           0.2  Iris-setosa\n",
              "4   5            5.0           3.6            1.4           0.2  Iris-setosa"
            ],
            "text/html": [
              "\n",
              "  <div id=\"df-f4de9c2e-b627-4b76-bcb9-564908f128fc\" class=\"colab-df-container\">\n",
              "    <div>\n",
              "<style scoped>\n",
              "    .dataframe tbody tr th:only-of-type {\n",
              "        vertical-align: middle;\n",
              "    }\n",
              "\n",
              "    .dataframe tbody tr th {\n",
              "        vertical-align: top;\n",
              "    }\n",
              "\n",
              "    .dataframe thead th {\n",
              "        text-align: right;\n",
              "    }\n",
              "</style>\n",
              "<table border=\"1\" class=\"dataframe\">\n",
              "  <thead>\n",
              "    <tr style=\"text-align: right;\">\n",
              "      <th></th>\n",
              "      <th>Id</th>\n",
              "      <th>SepalLengthCm</th>\n",
              "      <th>SepalWidthCm</th>\n",
              "      <th>PetalLengthCm</th>\n",
              "      <th>PetalWidthCm</th>\n",
              "      <th>Species</th>\n",
              "    </tr>\n",
              "  </thead>\n",
              "  <tbody>\n",
              "    <tr>\n",
              "      <th>0</th>\n",
              "      <td>1</td>\n",
              "      <td>5.1</td>\n",
              "      <td>3.5</td>\n",
              "      <td>1.4</td>\n",
              "      <td>0.2</td>\n",
              "      <td>Iris-setosa</td>\n",
              "    </tr>\n",
              "    <tr>\n",
              "      <th>1</th>\n",
              "      <td>2</td>\n",
              "      <td>4.9</td>\n",
              "      <td>3.0</td>\n",
              "      <td>1.4</td>\n",
              "      <td>0.2</td>\n",
              "      <td>Iris-setosa</td>\n",
              "    </tr>\n",
              "    <tr>\n",
              "      <th>2</th>\n",
              "      <td>3</td>\n",
              "      <td>4.7</td>\n",
              "      <td>3.2</td>\n",
              "      <td>1.3</td>\n",
              "      <td>0.2</td>\n",
              "      <td>Iris-setosa</td>\n",
              "    </tr>\n",
              "    <tr>\n",
              "      <th>3</th>\n",
              "      <td>4</td>\n",
              "      <td>4.6</td>\n",
              "      <td>3.1</td>\n",
              "      <td>1.5</td>\n",
              "      <td>0.2</td>\n",
              "      <td>Iris-setosa</td>\n",
              "    </tr>\n",
              "    <tr>\n",
              "      <th>4</th>\n",
              "      <td>5</td>\n",
              "      <td>5.0</td>\n",
              "      <td>3.6</td>\n",
              "      <td>1.4</td>\n",
              "      <td>0.2</td>\n",
              "      <td>Iris-setosa</td>\n",
              "    </tr>\n",
              "  </tbody>\n",
              "</table>\n",
              "</div>\n",
              "    <div class=\"colab-df-buttons\">\n",
              "\n",
              "  <div class=\"colab-df-container\">\n",
              "    <button class=\"colab-df-convert\" onclick=\"convertToInteractive('df-f4de9c2e-b627-4b76-bcb9-564908f128fc')\"\n",
              "            title=\"Convert this dataframe to an interactive table.\"\n",
              "            style=\"display:none;\">\n",
              "\n",
              "  <svg xmlns=\"http://www.w3.org/2000/svg\" height=\"24px\" viewBox=\"0 -960 960 960\">\n",
              "    <path d=\"M120-120v-720h720v720H120Zm60-500h600v-160H180v160Zm220 220h160v-160H400v160Zm0 220h160v-160H400v160ZM180-400h160v-160H180v160Zm440 0h160v-160H620v160ZM180-180h160v-160H180v160Zm440 0h160v-160H620v160Z\"/>\n",
              "  </svg>\n",
              "    </button>\n",
              "\n",
              "  <style>\n",
              "    .colab-df-container {\n",
              "      display:flex;\n",
              "      gap: 12px;\n",
              "    }\n",
              "\n",
              "    .colab-df-convert {\n",
              "      background-color: #E8F0FE;\n",
              "      border: none;\n",
              "      border-radius: 50%;\n",
              "      cursor: pointer;\n",
              "      display: none;\n",
              "      fill: #1967D2;\n",
              "      height: 32px;\n",
              "      padding: 0 0 0 0;\n",
              "      width: 32px;\n",
              "    }\n",
              "\n",
              "    .colab-df-convert:hover {\n",
              "      background-color: #E2EBFA;\n",
              "      box-shadow: 0px 1px 2px rgba(60, 64, 67, 0.3), 0px 1px 3px 1px rgba(60, 64, 67, 0.15);\n",
              "      fill: #174EA6;\n",
              "    }\n",
              "\n",
              "    .colab-df-buttons div {\n",
              "      margin-bottom: 4px;\n",
              "    }\n",
              "\n",
              "    [theme=dark] .colab-df-convert {\n",
              "      background-color: #3B4455;\n",
              "      fill: #D2E3FC;\n",
              "    }\n",
              "\n",
              "    [theme=dark] .colab-df-convert:hover {\n",
              "      background-color: #434B5C;\n",
              "      box-shadow: 0px 1px 3px 1px rgba(0, 0, 0, 0.15);\n",
              "      filter: drop-shadow(0px 1px 2px rgba(0, 0, 0, 0.3));\n",
              "      fill: #FFFFFF;\n",
              "    }\n",
              "  </style>\n",
              "\n",
              "    <script>\n",
              "      const buttonEl =\n",
              "        document.querySelector('#df-f4de9c2e-b627-4b76-bcb9-564908f128fc button.colab-df-convert');\n",
              "      buttonEl.style.display =\n",
              "        google.colab.kernel.accessAllowed ? 'block' : 'none';\n",
              "\n",
              "      async function convertToInteractive(key) {\n",
              "        const element = document.querySelector('#df-f4de9c2e-b627-4b76-bcb9-564908f128fc');\n",
              "        const dataTable =\n",
              "          await google.colab.kernel.invokeFunction('convertToInteractive',\n",
              "                                                    [key], {});\n",
              "        if (!dataTable) return;\n",
              "\n",
              "        const docLinkHtml = 'Like what you see? Visit the ' +\n",
              "          '<a target=\"_blank\" href=https://colab.research.google.com/notebooks/data_table.ipynb>data table notebook</a>'\n",
              "          + ' to learn more about interactive tables.';\n",
              "        element.innerHTML = '';\n",
              "        dataTable['output_type'] = 'display_data';\n",
              "        await google.colab.output.renderOutput(dataTable, element);\n",
              "        const docLink = document.createElement('div');\n",
              "        docLink.innerHTML = docLinkHtml;\n",
              "        element.appendChild(docLink);\n",
              "      }\n",
              "    </script>\n",
              "  </div>\n",
              "\n",
              "\n",
              "<div id=\"df-312c5dd3-59bb-400e-851b-267e5fd7b758\">\n",
              "  <button class=\"colab-df-quickchart\" onclick=\"quickchart('df-312c5dd3-59bb-400e-851b-267e5fd7b758')\"\n",
              "            title=\"Suggest charts\"\n",
              "            style=\"display:none;\">\n",
              "\n",
              "<svg xmlns=\"http://www.w3.org/2000/svg\" height=\"24px\"viewBox=\"0 0 24 24\"\n",
              "     width=\"24px\">\n",
              "    <g>\n",
              "        <path d=\"M19 3H5c-1.1 0-2 .9-2 2v14c0 1.1.9 2 2 2h14c1.1 0 2-.9 2-2V5c0-1.1-.9-2-2-2zM9 17H7v-7h2v7zm4 0h-2V7h2v10zm4 0h-2v-4h2v4z\"/>\n",
              "    </g>\n",
              "</svg>\n",
              "  </button>\n",
              "\n",
              "<style>\n",
              "  .colab-df-quickchart {\n",
              "      --bg-color: #E8F0FE;\n",
              "      --fill-color: #1967D2;\n",
              "      --hover-bg-color: #E2EBFA;\n",
              "      --hover-fill-color: #174EA6;\n",
              "      --disabled-fill-color: #AAA;\n",
              "      --disabled-bg-color: #DDD;\n",
              "  }\n",
              "\n",
              "  [theme=dark] .colab-df-quickchart {\n",
              "      --bg-color: #3B4455;\n",
              "      --fill-color: #D2E3FC;\n",
              "      --hover-bg-color: #434B5C;\n",
              "      --hover-fill-color: #FFFFFF;\n",
              "      --disabled-bg-color: #3B4455;\n",
              "      --disabled-fill-color: #666;\n",
              "  }\n",
              "\n",
              "  .colab-df-quickchart {\n",
              "    background-color: var(--bg-color);\n",
              "    border: none;\n",
              "    border-radius: 50%;\n",
              "    cursor: pointer;\n",
              "    display: none;\n",
              "    fill: var(--fill-color);\n",
              "    height: 32px;\n",
              "    padding: 0;\n",
              "    width: 32px;\n",
              "  }\n",
              "\n",
              "  .colab-df-quickchart:hover {\n",
              "    background-color: var(--hover-bg-color);\n",
              "    box-shadow: 0 1px 2px rgba(60, 64, 67, 0.3), 0 1px 3px 1px rgba(60, 64, 67, 0.15);\n",
              "    fill: var(--button-hover-fill-color);\n",
              "  }\n",
              "\n",
              "  .colab-df-quickchart-complete:disabled,\n",
              "  .colab-df-quickchart-complete:disabled:hover {\n",
              "    background-color: var(--disabled-bg-color);\n",
              "    fill: var(--disabled-fill-color);\n",
              "    box-shadow: none;\n",
              "  }\n",
              "\n",
              "  .colab-df-spinner {\n",
              "    border: 2px solid var(--fill-color);\n",
              "    border-color: transparent;\n",
              "    border-bottom-color: var(--fill-color);\n",
              "    animation:\n",
              "      spin 1s steps(1) infinite;\n",
              "  }\n",
              "\n",
              "  @keyframes spin {\n",
              "    0% {\n",
              "      border-color: transparent;\n",
              "      border-bottom-color: var(--fill-color);\n",
              "      border-left-color: var(--fill-color);\n",
              "    }\n",
              "    20% {\n",
              "      border-color: transparent;\n",
              "      border-left-color: var(--fill-color);\n",
              "      border-top-color: var(--fill-color);\n",
              "    }\n",
              "    30% {\n",
              "      border-color: transparent;\n",
              "      border-left-color: var(--fill-color);\n",
              "      border-top-color: var(--fill-color);\n",
              "      border-right-color: var(--fill-color);\n",
              "    }\n",
              "    40% {\n",
              "      border-color: transparent;\n",
              "      border-right-color: var(--fill-color);\n",
              "      border-top-color: var(--fill-color);\n",
              "    }\n",
              "    60% {\n",
              "      border-color: transparent;\n",
              "      border-right-color: var(--fill-color);\n",
              "    }\n",
              "    80% {\n",
              "      border-color: transparent;\n",
              "      border-right-color: var(--fill-color);\n",
              "      border-bottom-color: var(--fill-color);\n",
              "    }\n",
              "    90% {\n",
              "      border-color: transparent;\n",
              "      border-bottom-color: var(--fill-color);\n",
              "    }\n",
              "  }\n",
              "</style>\n",
              "\n",
              "  <script>\n",
              "    async function quickchart(key) {\n",
              "      const quickchartButtonEl =\n",
              "        document.querySelector('#' + key + ' button');\n",
              "      quickchartButtonEl.disabled = true;  // To prevent multiple clicks.\n",
              "      quickchartButtonEl.classList.add('colab-df-spinner');\n",
              "      try {\n",
              "        const charts = await google.colab.kernel.invokeFunction(\n",
              "            'suggestCharts', [key], {});\n",
              "      } catch (error) {\n",
              "        console.error('Error during call to suggestCharts:', error);\n",
              "      }\n",
              "      quickchartButtonEl.classList.remove('colab-df-spinner');\n",
              "      quickchartButtonEl.classList.add('colab-df-quickchart-complete');\n",
              "    }\n",
              "    (() => {\n",
              "      let quickchartButtonEl =\n",
              "        document.querySelector('#df-312c5dd3-59bb-400e-851b-267e5fd7b758 button');\n",
              "      quickchartButtonEl.style.display =\n",
              "        google.colab.kernel.accessAllowed ? 'block' : 'none';\n",
              "    })();\n",
              "  </script>\n",
              "</div>\n",
              "\n",
              "    </div>\n",
              "  </div>\n"
            ]
          },
          "metadata": {},
          "execution_count": 350
        }
      ]
    },
    {
      "cell_type": "code",
      "source": [
        "my_df['Species'].value_counts()"
      ],
      "metadata": {
        "colab": {
          "base_uri": "https://localhost:8080/"
        },
        "id": "ipzvDpuVicre",
        "outputId": "2abd512b-103a-475f-9dd8-19126ae0f657"
      },
      "execution_count": 351,
      "outputs": [
        {
          "output_type": "execute_result",
          "data": {
            "text/plain": [
              "Iris-setosa        50\n",
              "Iris-versicolor    50\n",
              "Iris-virginica     50\n",
              "Name: Species, dtype: int64"
            ]
          },
          "metadata": {},
          "execution_count": 351
        }
      ]
    },
    {
      "cell_type": "code",
      "source": [
        "# Change last column from strings to integers\n",
        "\n",
        "my_df['Species'] = my_df['Species'].replace('Iris-setosa', 0.0)\n",
        "my_df['Species'] = my_df['Species'].replace('Iris-versicolor', 1.0)\n",
        "my_df['Species'] = my_df['Species'].replace('Iris-virginica', 2.0)"
      ],
      "metadata": {
        "id": "X8aYkhURr6lQ"
      },
      "execution_count": 352,
      "outputs": []
    },
    {
      "cell_type": "code",
      "source": [
        "my_df.head(4)"
      ],
      "metadata": {
        "id": "p0455lkAtEW5",
        "colab": {
          "base_uri": "https://localhost:8080/",
          "height": 175
        },
        "outputId": "b91e8dc4-4d2e-497d-b39c-e764464d4728"
      },
      "execution_count": 353,
      "outputs": [
        {
          "output_type": "execute_result",
          "data": {
            "text/plain": [
              "   Id  SepalLengthCm  SepalWidthCm  PetalLengthCm  PetalWidthCm  Species\n",
              "0   1            5.1           3.5            1.4           0.2      0.0\n",
              "1   2            4.9           3.0            1.4           0.2      0.0\n",
              "2   3            4.7           3.2            1.3           0.2      0.0\n",
              "3   4            4.6           3.1            1.5           0.2      0.0"
            ],
            "text/html": [
              "\n",
              "  <div id=\"df-4c88fe92-e760-4626-9b9e-acfc56655732\" class=\"colab-df-container\">\n",
              "    <div>\n",
              "<style scoped>\n",
              "    .dataframe tbody tr th:only-of-type {\n",
              "        vertical-align: middle;\n",
              "    }\n",
              "\n",
              "    .dataframe tbody tr th {\n",
              "        vertical-align: top;\n",
              "    }\n",
              "\n",
              "    .dataframe thead th {\n",
              "        text-align: right;\n",
              "    }\n",
              "</style>\n",
              "<table border=\"1\" class=\"dataframe\">\n",
              "  <thead>\n",
              "    <tr style=\"text-align: right;\">\n",
              "      <th></th>\n",
              "      <th>Id</th>\n",
              "      <th>SepalLengthCm</th>\n",
              "      <th>SepalWidthCm</th>\n",
              "      <th>PetalLengthCm</th>\n",
              "      <th>PetalWidthCm</th>\n",
              "      <th>Species</th>\n",
              "    </tr>\n",
              "  </thead>\n",
              "  <tbody>\n",
              "    <tr>\n",
              "      <th>0</th>\n",
              "      <td>1</td>\n",
              "      <td>5.1</td>\n",
              "      <td>3.5</td>\n",
              "      <td>1.4</td>\n",
              "      <td>0.2</td>\n",
              "      <td>0.0</td>\n",
              "    </tr>\n",
              "    <tr>\n",
              "      <th>1</th>\n",
              "      <td>2</td>\n",
              "      <td>4.9</td>\n",
              "      <td>3.0</td>\n",
              "      <td>1.4</td>\n",
              "      <td>0.2</td>\n",
              "      <td>0.0</td>\n",
              "    </tr>\n",
              "    <tr>\n",
              "      <th>2</th>\n",
              "      <td>3</td>\n",
              "      <td>4.7</td>\n",
              "      <td>3.2</td>\n",
              "      <td>1.3</td>\n",
              "      <td>0.2</td>\n",
              "      <td>0.0</td>\n",
              "    </tr>\n",
              "    <tr>\n",
              "      <th>3</th>\n",
              "      <td>4</td>\n",
              "      <td>4.6</td>\n",
              "      <td>3.1</td>\n",
              "      <td>1.5</td>\n",
              "      <td>0.2</td>\n",
              "      <td>0.0</td>\n",
              "    </tr>\n",
              "  </tbody>\n",
              "</table>\n",
              "</div>\n",
              "    <div class=\"colab-df-buttons\">\n",
              "\n",
              "  <div class=\"colab-df-container\">\n",
              "    <button class=\"colab-df-convert\" onclick=\"convertToInteractive('df-4c88fe92-e760-4626-9b9e-acfc56655732')\"\n",
              "            title=\"Convert this dataframe to an interactive table.\"\n",
              "            style=\"display:none;\">\n",
              "\n",
              "  <svg xmlns=\"http://www.w3.org/2000/svg\" height=\"24px\" viewBox=\"0 -960 960 960\">\n",
              "    <path d=\"M120-120v-720h720v720H120Zm60-500h600v-160H180v160Zm220 220h160v-160H400v160Zm0 220h160v-160H400v160ZM180-400h160v-160H180v160Zm440 0h160v-160H620v160ZM180-180h160v-160H180v160Zm440 0h160v-160H620v160Z\"/>\n",
              "  </svg>\n",
              "    </button>\n",
              "\n",
              "  <style>\n",
              "    .colab-df-container {\n",
              "      display:flex;\n",
              "      gap: 12px;\n",
              "    }\n",
              "\n",
              "    .colab-df-convert {\n",
              "      background-color: #E8F0FE;\n",
              "      border: none;\n",
              "      border-radius: 50%;\n",
              "      cursor: pointer;\n",
              "      display: none;\n",
              "      fill: #1967D2;\n",
              "      height: 32px;\n",
              "      padding: 0 0 0 0;\n",
              "      width: 32px;\n",
              "    }\n",
              "\n",
              "    .colab-df-convert:hover {\n",
              "      background-color: #E2EBFA;\n",
              "      box-shadow: 0px 1px 2px rgba(60, 64, 67, 0.3), 0px 1px 3px 1px rgba(60, 64, 67, 0.15);\n",
              "      fill: #174EA6;\n",
              "    }\n",
              "\n",
              "    .colab-df-buttons div {\n",
              "      margin-bottom: 4px;\n",
              "    }\n",
              "\n",
              "    [theme=dark] .colab-df-convert {\n",
              "      background-color: #3B4455;\n",
              "      fill: #D2E3FC;\n",
              "    }\n",
              "\n",
              "    [theme=dark] .colab-df-convert:hover {\n",
              "      background-color: #434B5C;\n",
              "      box-shadow: 0px 1px 3px 1px rgba(0, 0, 0, 0.15);\n",
              "      filter: drop-shadow(0px 1px 2px rgba(0, 0, 0, 0.3));\n",
              "      fill: #FFFFFF;\n",
              "    }\n",
              "  </style>\n",
              "\n",
              "    <script>\n",
              "      const buttonEl =\n",
              "        document.querySelector('#df-4c88fe92-e760-4626-9b9e-acfc56655732 button.colab-df-convert');\n",
              "      buttonEl.style.display =\n",
              "        google.colab.kernel.accessAllowed ? 'block' : 'none';\n",
              "\n",
              "      async function convertToInteractive(key) {\n",
              "        const element = document.querySelector('#df-4c88fe92-e760-4626-9b9e-acfc56655732');\n",
              "        const dataTable =\n",
              "          await google.colab.kernel.invokeFunction('convertToInteractive',\n",
              "                                                    [key], {});\n",
              "        if (!dataTable) return;\n",
              "\n",
              "        const docLinkHtml = 'Like what you see? Visit the ' +\n",
              "          '<a target=\"_blank\" href=https://colab.research.google.com/notebooks/data_table.ipynb>data table notebook</a>'\n",
              "          + ' to learn more about interactive tables.';\n",
              "        element.innerHTML = '';\n",
              "        dataTable['output_type'] = 'display_data';\n",
              "        await google.colab.output.renderOutput(dataTable, element);\n",
              "        const docLink = document.createElement('div');\n",
              "        docLink.innerHTML = docLinkHtml;\n",
              "        element.appendChild(docLink);\n",
              "      }\n",
              "    </script>\n",
              "  </div>\n",
              "\n",
              "\n",
              "<div id=\"df-6fb27757-3c5f-451b-bd4c-748f720b3753\">\n",
              "  <button class=\"colab-df-quickchart\" onclick=\"quickchart('df-6fb27757-3c5f-451b-bd4c-748f720b3753')\"\n",
              "            title=\"Suggest charts\"\n",
              "            style=\"display:none;\">\n",
              "\n",
              "<svg xmlns=\"http://www.w3.org/2000/svg\" height=\"24px\"viewBox=\"0 0 24 24\"\n",
              "     width=\"24px\">\n",
              "    <g>\n",
              "        <path d=\"M19 3H5c-1.1 0-2 .9-2 2v14c0 1.1.9 2 2 2h14c1.1 0 2-.9 2-2V5c0-1.1-.9-2-2-2zM9 17H7v-7h2v7zm4 0h-2V7h2v10zm4 0h-2v-4h2v4z\"/>\n",
              "    </g>\n",
              "</svg>\n",
              "  </button>\n",
              "\n",
              "<style>\n",
              "  .colab-df-quickchart {\n",
              "      --bg-color: #E8F0FE;\n",
              "      --fill-color: #1967D2;\n",
              "      --hover-bg-color: #E2EBFA;\n",
              "      --hover-fill-color: #174EA6;\n",
              "      --disabled-fill-color: #AAA;\n",
              "      --disabled-bg-color: #DDD;\n",
              "  }\n",
              "\n",
              "  [theme=dark] .colab-df-quickchart {\n",
              "      --bg-color: #3B4455;\n",
              "      --fill-color: #D2E3FC;\n",
              "      --hover-bg-color: #434B5C;\n",
              "      --hover-fill-color: #FFFFFF;\n",
              "      --disabled-bg-color: #3B4455;\n",
              "      --disabled-fill-color: #666;\n",
              "  }\n",
              "\n",
              "  .colab-df-quickchart {\n",
              "    background-color: var(--bg-color);\n",
              "    border: none;\n",
              "    border-radius: 50%;\n",
              "    cursor: pointer;\n",
              "    display: none;\n",
              "    fill: var(--fill-color);\n",
              "    height: 32px;\n",
              "    padding: 0;\n",
              "    width: 32px;\n",
              "  }\n",
              "\n",
              "  .colab-df-quickchart:hover {\n",
              "    background-color: var(--hover-bg-color);\n",
              "    box-shadow: 0 1px 2px rgba(60, 64, 67, 0.3), 0 1px 3px 1px rgba(60, 64, 67, 0.15);\n",
              "    fill: var(--button-hover-fill-color);\n",
              "  }\n",
              "\n",
              "  .colab-df-quickchart-complete:disabled,\n",
              "  .colab-df-quickchart-complete:disabled:hover {\n",
              "    background-color: var(--disabled-bg-color);\n",
              "    fill: var(--disabled-fill-color);\n",
              "    box-shadow: none;\n",
              "  }\n",
              "\n",
              "  .colab-df-spinner {\n",
              "    border: 2px solid var(--fill-color);\n",
              "    border-color: transparent;\n",
              "    border-bottom-color: var(--fill-color);\n",
              "    animation:\n",
              "      spin 1s steps(1) infinite;\n",
              "  }\n",
              "\n",
              "  @keyframes spin {\n",
              "    0% {\n",
              "      border-color: transparent;\n",
              "      border-bottom-color: var(--fill-color);\n",
              "      border-left-color: var(--fill-color);\n",
              "    }\n",
              "    20% {\n",
              "      border-color: transparent;\n",
              "      border-left-color: var(--fill-color);\n",
              "      border-top-color: var(--fill-color);\n",
              "    }\n",
              "    30% {\n",
              "      border-color: transparent;\n",
              "      border-left-color: var(--fill-color);\n",
              "      border-top-color: var(--fill-color);\n",
              "      border-right-color: var(--fill-color);\n",
              "    }\n",
              "    40% {\n",
              "      border-color: transparent;\n",
              "      border-right-color: var(--fill-color);\n",
              "      border-top-color: var(--fill-color);\n",
              "    }\n",
              "    60% {\n",
              "      border-color: transparent;\n",
              "      border-right-color: var(--fill-color);\n",
              "    }\n",
              "    80% {\n",
              "      border-color: transparent;\n",
              "      border-right-color: var(--fill-color);\n",
              "      border-bottom-color: var(--fill-color);\n",
              "    }\n",
              "    90% {\n",
              "      border-color: transparent;\n",
              "      border-bottom-color: var(--fill-color);\n",
              "    }\n",
              "  }\n",
              "</style>\n",
              "\n",
              "  <script>\n",
              "    async function quickchart(key) {\n",
              "      const quickchartButtonEl =\n",
              "        document.querySelector('#' + key + ' button');\n",
              "      quickchartButtonEl.disabled = true;  // To prevent multiple clicks.\n",
              "      quickchartButtonEl.classList.add('colab-df-spinner');\n",
              "      try {\n",
              "        const charts = await google.colab.kernel.invokeFunction(\n",
              "            'suggestCharts', [key], {});\n",
              "      } catch (error) {\n",
              "        console.error('Error during call to suggestCharts:', error);\n",
              "      }\n",
              "      quickchartButtonEl.classList.remove('colab-df-spinner');\n",
              "      quickchartButtonEl.classList.add('colab-df-quickchart-complete');\n",
              "    }\n",
              "    (() => {\n",
              "      let quickchartButtonEl =\n",
              "        document.querySelector('#df-6fb27757-3c5f-451b-bd4c-748f720b3753 button');\n",
              "      quickchartButtonEl.style.display =\n",
              "        google.colab.kernel.accessAllowed ? 'block' : 'none';\n",
              "    })();\n",
              "  </script>\n",
              "</div>\n",
              "\n",
              "    </div>\n",
              "  </div>\n"
            ]
          },
          "metadata": {},
          "execution_count": 353
        }
      ]
    },
    {
      "cell_type": "code",
      "source": [
        "# x = my_df[['SepalLengthCm', 'SepalWidthCm', 'PetalLengthCm', 'PetalWidthCm']]\n",
        "# x"
      ],
      "metadata": {
        "id": "hLrfUKLvQkMi"
      },
      "execution_count": 354,
      "outputs": []
    },
    {
      "cell_type": "code",
      "source": [
        "# Set x, y\n",
        "\n",
        "# x = my_df.drop('Species', axis=1)\n",
        "\n",
        "x = my_df[['SepalLengthCm', 'SepalWidthCm', 'PetalLengthCm', 'PetalWidthCm']]\n",
        "y =  my_df['Species']\n"
      ],
      "metadata": {
        "id": "dE8oxbbZtJS8"
      },
      "execution_count": 355,
      "outputs": []
    },
    {
      "cell_type": "code",
      "source": [
        "x"
      ],
      "metadata": {
        "colab": {
          "base_uri": "https://localhost:8080/",
          "height": 424
        },
        "id": "YFBzdB8Qv9zn",
        "outputId": "1c619449-7c46-495f-e1d9-f018b8931db4"
      },
      "execution_count": 356,
      "outputs": [
        {
          "output_type": "execute_result",
          "data": {
            "text/plain": [
              "     SepalLengthCm  SepalWidthCm  PetalLengthCm  PetalWidthCm\n",
              "0              5.1           3.5            1.4           0.2\n",
              "1              4.9           3.0            1.4           0.2\n",
              "2              4.7           3.2            1.3           0.2\n",
              "3              4.6           3.1            1.5           0.2\n",
              "4              5.0           3.6            1.4           0.2\n",
              "..             ...           ...            ...           ...\n",
              "145            6.7           3.0            5.2           2.3\n",
              "146            6.3           2.5            5.0           1.9\n",
              "147            6.5           3.0            5.2           2.0\n",
              "148            6.2           3.4            5.4           2.3\n",
              "149            5.9           3.0            5.1           1.8\n",
              "\n",
              "[150 rows x 4 columns]"
            ],
            "text/html": [
              "\n",
              "  <div id=\"df-ed146e7e-7e2c-4bda-9d6e-52bb2c5bc803\" class=\"colab-df-container\">\n",
              "    <div>\n",
              "<style scoped>\n",
              "    .dataframe tbody tr th:only-of-type {\n",
              "        vertical-align: middle;\n",
              "    }\n",
              "\n",
              "    .dataframe tbody tr th {\n",
              "        vertical-align: top;\n",
              "    }\n",
              "\n",
              "    .dataframe thead th {\n",
              "        text-align: right;\n",
              "    }\n",
              "</style>\n",
              "<table border=\"1\" class=\"dataframe\">\n",
              "  <thead>\n",
              "    <tr style=\"text-align: right;\">\n",
              "      <th></th>\n",
              "      <th>SepalLengthCm</th>\n",
              "      <th>SepalWidthCm</th>\n",
              "      <th>PetalLengthCm</th>\n",
              "      <th>PetalWidthCm</th>\n",
              "    </tr>\n",
              "  </thead>\n",
              "  <tbody>\n",
              "    <tr>\n",
              "      <th>0</th>\n",
              "      <td>5.1</td>\n",
              "      <td>3.5</td>\n",
              "      <td>1.4</td>\n",
              "      <td>0.2</td>\n",
              "    </tr>\n",
              "    <tr>\n",
              "      <th>1</th>\n",
              "      <td>4.9</td>\n",
              "      <td>3.0</td>\n",
              "      <td>1.4</td>\n",
              "      <td>0.2</td>\n",
              "    </tr>\n",
              "    <tr>\n",
              "      <th>2</th>\n",
              "      <td>4.7</td>\n",
              "      <td>3.2</td>\n",
              "      <td>1.3</td>\n",
              "      <td>0.2</td>\n",
              "    </tr>\n",
              "    <tr>\n",
              "      <th>3</th>\n",
              "      <td>4.6</td>\n",
              "      <td>3.1</td>\n",
              "      <td>1.5</td>\n",
              "      <td>0.2</td>\n",
              "    </tr>\n",
              "    <tr>\n",
              "      <th>4</th>\n",
              "      <td>5.0</td>\n",
              "      <td>3.6</td>\n",
              "      <td>1.4</td>\n",
              "      <td>0.2</td>\n",
              "    </tr>\n",
              "    <tr>\n",
              "      <th>...</th>\n",
              "      <td>...</td>\n",
              "      <td>...</td>\n",
              "      <td>...</td>\n",
              "      <td>...</td>\n",
              "    </tr>\n",
              "    <tr>\n",
              "      <th>145</th>\n",
              "      <td>6.7</td>\n",
              "      <td>3.0</td>\n",
              "      <td>5.2</td>\n",
              "      <td>2.3</td>\n",
              "    </tr>\n",
              "    <tr>\n",
              "      <th>146</th>\n",
              "      <td>6.3</td>\n",
              "      <td>2.5</td>\n",
              "      <td>5.0</td>\n",
              "      <td>1.9</td>\n",
              "    </tr>\n",
              "    <tr>\n",
              "      <th>147</th>\n",
              "      <td>6.5</td>\n",
              "      <td>3.0</td>\n",
              "      <td>5.2</td>\n",
              "      <td>2.0</td>\n",
              "    </tr>\n",
              "    <tr>\n",
              "      <th>148</th>\n",
              "      <td>6.2</td>\n",
              "      <td>3.4</td>\n",
              "      <td>5.4</td>\n",
              "      <td>2.3</td>\n",
              "    </tr>\n",
              "    <tr>\n",
              "      <th>149</th>\n",
              "      <td>5.9</td>\n",
              "      <td>3.0</td>\n",
              "      <td>5.1</td>\n",
              "      <td>1.8</td>\n",
              "    </tr>\n",
              "  </tbody>\n",
              "</table>\n",
              "<p>150 rows × 4 columns</p>\n",
              "</div>\n",
              "    <div class=\"colab-df-buttons\">\n",
              "\n",
              "  <div class=\"colab-df-container\">\n",
              "    <button class=\"colab-df-convert\" onclick=\"convertToInteractive('df-ed146e7e-7e2c-4bda-9d6e-52bb2c5bc803')\"\n",
              "            title=\"Convert this dataframe to an interactive table.\"\n",
              "            style=\"display:none;\">\n",
              "\n",
              "  <svg xmlns=\"http://www.w3.org/2000/svg\" height=\"24px\" viewBox=\"0 -960 960 960\">\n",
              "    <path d=\"M120-120v-720h720v720H120Zm60-500h600v-160H180v160Zm220 220h160v-160H400v160Zm0 220h160v-160H400v160ZM180-400h160v-160H180v160Zm440 0h160v-160H620v160ZM180-180h160v-160H180v160Zm440 0h160v-160H620v160Z\"/>\n",
              "  </svg>\n",
              "    </button>\n",
              "\n",
              "  <style>\n",
              "    .colab-df-container {\n",
              "      display:flex;\n",
              "      gap: 12px;\n",
              "    }\n",
              "\n",
              "    .colab-df-convert {\n",
              "      background-color: #E8F0FE;\n",
              "      border: none;\n",
              "      border-radius: 50%;\n",
              "      cursor: pointer;\n",
              "      display: none;\n",
              "      fill: #1967D2;\n",
              "      height: 32px;\n",
              "      padding: 0 0 0 0;\n",
              "      width: 32px;\n",
              "    }\n",
              "\n",
              "    .colab-df-convert:hover {\n",
              "      background-color: #E2EBFA;\n",
              "      box-shadow: 0px 1px 2px rgba(60, 64, 67, 0.3), 0px 1px 3px 1px rgba(60, 64, 67, 0.15);\n",
              "      fill: #174EA6;\n",
              "    }\n",
              "\n",
              "    .colab-df-buttons div {\n",
              "      margin-bottom: 4px;\n",
              "    }\n",
              "\n",
              "    [theme=dark] .colab-df-convert {\n",
              "      background-color: #3B4455;\n",
              "      fill: #D2E3FC;\n",
              "    }\n",
              "\n",
              "    [theme=dark] .colab-df-convert:hover {\n",
              "      background-color: #434B5C;\n",
              "      box-shadow: 0px 1px 3px 1px rgba(0, 0, 0, 0.15);\n",
              "      filter: drop-shadow(0px 1px 2px rgba(0, 0, 0, 0.3));\n",
              "      fill: #FFFFFF;\n",
              "    }\n",
              "  </style>\n",
              "\n",
              "    <script>\n",
              "      const buttonEl =\n",
              "        document.querySelector('#df-ed146e7e-7e2c-4bda-9d6e-52bb2c5bc803 button.colab-df-convert');\n",
              "      buttonEl.style.display =\n",
              "        google.colab.kernel.accessAllowed ? 'block' : 'none';\n",
              "\n",
              "      async function convertToInteractive(key) {\n",
              "        const element = document.querySelector('#df-ed146e7e-7e2c-4bda-9d6e-52bb2c5bc803');\n",
              "        const dataTable =\n",
              "          await google.colab.kernel.invokeFunction('convertToInteractive',\n",
              "                                                    [key], {});\n",
              "        if (!dataTable) return;\n",
              "\n",
              "        const docLinkHtml = 'Like what you see? Visit the ' +\n",
              "          '<a target=\"_blank\" href=https://colab.research.google.com/notebooks/data_table.ipynb>data table notebook</a>'\n",
              "          + ' to learn more about interactive tables.';\n",
              "        element.innerHTML = '';\n",
              "        dataTable['output_type'] = 'display_data';\n",
              "        await google.colab.output.renderOutput(dataTable, element);\n",
              "        const docLink = document.createElement('div');\n",
              "        docLink.innerHTML = docLinkHtml;\n",
              "        element.appendChild(docLink);\n",
              "      }\n",
              "    </script>\n",
              "  </div>\n",
              "\n",
              "\n",
              "<div id=\"df-f4315bf5-5a74-4438-8c65-acd144ad3bb3\">\n",
              "  <button class=\"colab-df-quickchart\" onclick=\"quickchart('df-f4315bf5-5a74-4438-8c65-acd144ad3bb3')\"\n",
              "            title=\"Suggest charts\"\n",
              "            style=\"display:none;\">\n",
              "\n",
              "<svg xmlns=\"http://www.w3.org/2000/svg\" height=\"24px\"viewBox=\"0 0 24 24\"\n",
              "     width=\"24px\">\n",
              "    <g>\n",
              "        <path d=\"M19 3H5c-1.1 0-2 .9-2 2v14c0 1.1.9 2 2 2h14c1.1 0 2-.9 2-2V5c0-1.1-.9-2-2-2zM9 17H7v-7h2v7zm4 0h-2V7h2v10zm4 0h-2v-4h2v4z\"/>\n",
              "    </g>\n",
              "</svg>\n",
              "  </button>\n",
              "\n",
              "<style>\n",
              "  .colab-df-quickchart {\n",
              "      --bg-color: #E8F0FE;\n",
              "      --fill-color: #1967D2;\n",
              "      --hover-bg-color: #E2EBFA;\n",
              "      --hover-fill-color: #174EA6;\n",
              "      --disabled-fill-color: #AAA;\n",
              "      --disabled-bg-color: #DDD;\n",
              "  }\n",
              "\n",
              "  [theme=dark] .colab-df-quickchart {\n",
              "      --bg-color: #3B4455;\n",
              "      --fill-color: #D2E3FC;\n",
              "      --hover-bg-color: #434B5C;\n",
              "      --hover-fill-color: #FFFFFF;\n",
              "      --disabled-bg-color: #3B4455;\n",
              "      --disabled-fill-color: #666;\n",
              "  }\n",
              "\n",
              "  .colab-df-quickchart {\n",
              "    background-color: var(--bg-color);\n",
              "    border: none;\n",
              "    border-radius: 50%;\n",
              "    cursor: pointer;\n",
              "    display: none;\n",
              "    fill: var(--fill-color);\n",
              "    height: 32px;\n",
              "    padding: 0;\n",
              "    width: 32px;\n",
              "  }\n",
              "\n",
              "  .colab-df-quickchart:hover {\n",
              "    background-color: var(--hover-bg-color);\n",
              "    box-shadow: 0 1px 2px rgba(60, 64, 67, 0.3), 0 1px 3px 1px rgba(60, 64, 67, 0.15);\n",
              "    fill: var(--button-hover-fill-color);\n",
              "  }\n",
              "\n",
              "  .colab-df-quickchart-complete:disabled,\n",
              "  .colab-df-quickchart-complete:disabled:hover {\n",
              "    background-color: var(--disabled-bg-color);\n",
              "    fill: var(--disabled-fill-color);\n",
              "    box-shadow: none;\n",
              "  }\n",
              "\n",
              "  .colab-df-spinner {\n",
              "    border: 2px solid var(--fill-color);\n",
              "    border-color: transparent;\n",
              "    border-bottom-color: var(--fill-color);\n",
              "    animation:\n",
              "      spin 1s steps(1) infinite;\n",
              "  }\n",
              "\n",
              "  @keyframes spin {\n",
              "    0% {\n",
              "      border-color: transparent;\n",
              "      border-bottom-color: var(--fill-color);\n",
              "      border-left-color: var(--fill-color);\n",
              "    }\n",
              "    20% {\n",
              "      border-color: transparent;\n",
              "      border-left-color: var(--fill-color);\n",
              "      border-top-color: var(--fill-color);\n",
              "    }\n",
              "    30% {\n",
              "      border-color: transparent;\n",
              "      border-left-color: var(--fill-color);\n",
              "      border-top-color: var(--fill-color);\n",
              "      border-right-color: var(--fill-color);\n",
              "    }\n",
              "    40% {\n",
              "      border-color: transparent;\n",
              "      border-right-color: var(--fill-color);\n",
              "      border-top-color: var(--fill-color);\n",
              "    }\n",
              "    60% {\n",
              "      border-color: transparent;\n",
              "      border-right-color: var(--fill-color);\n",
              "    }\n",
              "    80% {\n",
              "      border-color: transparent;\n",
              "      border-right-color: var(--fill-color);\n",
              "      border-bottom-color: var(--fill-color);\n",
              "    }\n",
              "    90% {\n",
              "      border-color: transparent;\n",
              "      border-bottom-color: var(--fill-color);\n",
              "    }\n",
              "  }\n",
              "</style>\n",
              "\n",
              "  <script>\n",
              "    async function quickchart(key) {\n",
              "      const quickchartButtonEl =\n",
              "        document.querySelector('#' + key + ' button');\n",
              "      quickchartButtonEl.disabled = true;  // To prevent multiple clicks.\n",
              "      quickchartButtonEl.classList.add('colab-df-spinner');\n",
              "      try {\n",
              "        const charts = await google.colab.kernel.invokeFunction(\n",
              "            'suggestCharts', [key], {});\n",
              "      } catch (error) {\n",
              "        console.error('Error during call to suggestCharts:', error);\n",
              "      }\n",
              "      quickchartButtonEl.classList.remove('colab-df-spinner');\n",
              "      quickchartButtonEl.classList.add('colab-df-quickchart-complete');\n",
              "    }\n",
              "    (() => {\n",
              "      let quickchartButtonEl =\n",
              "        document.querySelector('#df-f4315bf5-5a74-4438-8c65-acd144ad3bb3 button');\n",
              "      quickchartButtonEl.style.display =\n",
              "        google.colab.kernel.accessAllowed ? 'block' : 'none';\n",
              "    })();\n",
              "  </script>\n",
              "</div>\n",
              "\n",
              "  <div id=\"id_df1fc420-c035-4993-850c-e449f3b44693\">\n",
              "    <style>\n",
              "      .colab-df-generate {\n",
              "        background-color: #E8F0FE;\n",
              "        border: none;\n",
              "        border-radius: 50%;\n",
              "        cursor: pointer;\n",
              "        display: none;\n",
              "        fill: #1967D2;\n",
              "        height: 32px;\n",
              "        padding: 0 0 0 0;\n",
              "        width: 32px;\n",
              "      }\n",
              "\n",
              "      .colab-df-generate:hover {\n",
              "        background-color: #E2EBFA;\n",
              "        box-shadow: 0px 1px 2px rgba(60, 64, 67, 0.3), 0px 1px 3px 1px rgba(60, 64, 67, 0.15);\n",
              "        fill: #174EA6;\n",
              "      }\n",
              "\n",
              "      [theme=dark] .colab-df-generate {\n",
              "        background-color: #3B4455;\n",
              "        fill: #D2E3FC;\n",
              "      }\n",
              "\n",
              "      [theme=dark] .colab-df-generate:hover {\n",
              "        background-color: #434B5C;\n",
              "        box-shadow: 0px 1px 3px 1px rgba(0, 0, 0, 0.15);\n",
              "        filter: drop-shadow(0px 1px 2px rgba(0, 0, 0, 0.3));\n",
              "        fill: #FFFFFF;\n",
              "      }\n",
              "    </style>\n",
              "    <button class=\"colab-df-generate\" onclick=\"generateWithVariable('x')\"\n",
              "            title=\"Generate code using this dataframe.\"\n",
              "            style=\"display:none;\">\n",
              "\n",
              "  <svg xmlns=\"http://www.w3.org/2000/svg\" height=\"24px\"viewBox=\"0 0 24 24\"\n",
              "       width=\"24px\">\n",
              "    <path d=\"M7,19H8.4L18.45,9,17,7.55,7,17.6ZM5,21V16.75L18.45,3.32a2,2,0,0,1,2.83,0l1.4,1.43a1.91,1.91,0,0,1,.58,1.4,1.91,1.91,0,0,1-.58,1.4L9.25,21ZM18.45,9,17,7.55Zm-12,3A5.31,5.31,0,0,0,4.9,8.1,5.31,5.31,0,0,0,1,6.5,5.31,5.31,0,0,0,4.9,4.9,5.31,5.31,0,0,0,6.5,1,5.31,5.31,0,0,0,8.1,4.9,5.31,5.31,0,0,0,12,6.5,5.46,5.46,0,0,0,6.5,12Z\"/>\n",
              "  </svg>\n",
              "    </button>\n",
              "    <script>\n",
              "      (() => {\n",
              "      const buttonEl =\n",
              "        document.querySelector('#id_df1fc420-c035-4993-850c-e449f3b44693 button.colab-df-generate');\n",
              "      buttonEl.style.display =\n",
              "        google.colab.kernel.accessAllowed ? 'block' : 'none';\n",
              "\n",
              "      buttonEl.onclick = () => {\n",
              "        google.colab.notebook.generateWithVariable('x');\n",
              "      }\n",
              "      })();\n",
              "    </script>\n",
              "  </div>\n",
              "\n",
              "    </div>\n",
              "  </div>\n"
            ]
          },
          "metadata": {},
          "execution_count": 356
        }
      ]
    },
    {
      "cell_type": "code",
      "source": [
        "x = x.values\n",
        "y = y.values"
      ],
      "metadata": {
        "id": "sNBHm6SOv_M5"
      },
      "execution_count": 357,
      "outputs": []
    },
    {
      "cell_type": "code",
      "source": [
        "from sklearn.model_selection import train_test_split"
      ],
      "metadata": {
        "id": "rfC_WfmNwm__"
      },
      "execution_count": 358,
      "outputs": []
    },
    {
      "cell_type": "code",
      "source": [
        "# Train Test Split\n",
        "\n",
        "x_train, x_test, y_train, y_test = train_test_split(x, y, test_size=0.2, random_state=41)"
      ],
      "metadata": {
        "id": "KsQPd2nbwoIA"
      },
      "execution_count": 359,
      "outputs": []
    },
    {
      "cell_type": "code",
      "source": [
        "# convert x features to float tensors\n",
        "\n",
        "x_train = torch.FloatTensor(x_train)\n",
        "x_test  = torch.FloatTensor(x_test)"
      ],
      "metadata": {
        "id": "erUFT5St4Eqr"
      },
      "execution_count": 360,
      "outputs": []
    },
    {
      "cell_type": "code",
      "source": [
        "# convert y labels to long tensors\n",
        "\n",
        "# https://pytorch.org/docs/stable/tensors.html         # Torch Tensor Documentation for CPU & GPU\n",
        "\n",
        "y_train = torch.LongTensor(y_train)\n",
        "y_test  = torch.LongTensor(y_test)\n",
        "\n",
        "# Change the cpu to GPU of Current Google Colab\n",
        "# https://www.tutorialspoint.com/google_colab/google_colab_using_free_gpu.htm"
      ],
      "metadata": {
        "id": "jmYzPQDP4hDR"
      },
      "execution_count": 361,
      "outputs": []
    },
    {
      "cell_type": "code",
      "source": [
        "# Set the criterion of the model to measure the error, how far off the predictions are from the data\n",
        "\n",
        "criterion = nn.CrossEntropyLoss()\n",
        "\n",
        "# https://towardsdatascience.com/cross-entropy-loss-function-f38c4ec8643e\n",
        "# https://www.educative.io/answers/what-is-cross-entropy-loss-in-pytorch\n",
        "# https://www.v7labs.com/blog/cross-entropy-loss-guide#:~:text=Cross%2Dentropy%20loss%2C%20or%20log,diverges%20from%20the%20actual%20label.\n",
        "# https://medium.com/@evertongomede/activation-functions-and-loss-functions-in-deep-learning-differences-and-overlaps-e62249de999d#:~:text=Activation%20functions%20are%20applied%20at,learning%20by%20penalizing%20incorrect%20predictions.\n",
        "\n",
        "# Chosse Adam Optimizer, lr = learning rate\n",
        "optimizer = torch.optim.Adam(model.parameters(), lr=0.01)\n",
        "\n",
        "# https://www.youtube.com/watch?v=tuU59-G1PgU  # Adam Optimizer\n"
      ],
      "metadata": {
        "id": "sBH-hXzU49XG"
      },
      "execution_count": 362,
      "outputs": []
    },
    {
      "cell_type": "code",
      "source": [
        "model.parameters"
      ],
      "metadata": {
        "id": "7mHV6q9AQNBx",
        "colab": {
          "base_uri": "https://localhost:8080/"
        },
        "outputId": "7082b2c1-2e1c-4cd6-9cd6-eb6aa10093d0"
      },
      "execution_count": 363,
      "outputs": [
        {
          "output_type": "execute_result",
          "data": {
            "text/plain": [
              "<bound method Module.parameters of Model(\n",
              "  (fc1): Linear(in_features=4, out_features=8, bias=True)\n",
              "  (fc2): Linear(in_features=8, out_features=9, bias=True)\n",
              "  (out): Linear(in_features=9, out_features=3, bias=True)\n",
              ")>"
            ]
          },
          "metadata": {},
          "execution_count": 363
        }
      ]
    },
    {
      "cell_type": "code",
      "source": [
        "# Train Our Model\n",
        "epochs = 100\n",
        "losses = []\n",
        "\n",
        "for i in range(epochs):\n",
        "     # Go forward and get a prediction\n",
        "     y_pred = model.forward(x_train)   # Get Predicted Results\n",
        "\n",
        "     # Measure the loss/error, gonna be high at first\n",
        "     loss = criterion(y_pred, y_train)     # Predicted Values vs the y_train\n",
        "\n",
        "     # Keep Track of our Loss\n",
        "     #  # https://stackoverflow.com/questions/63582590/why-do-we-call-detach-before-calling-numpy-on-a-pytorch-tensor\n",
        "     losses.append(loss.detach().numpy())\n",
        "\n",
        "     # print Every 10 epoch\n",
        "     if i % 10 == 0:\n",
        "       print(f'Epoch: {i} and loss: {loss}')\n",
        "\n",
        "     # Do some Backpropagation\n",
        "     # Take the Error rate of forward propagation and feed it back through the fine tune the weights\n",
        "     optimizer.zero_grad()    # https://stackoverflow.com/questions/48001598/why-do-we-need-to-call-zero-grad-in-pytorch\n",
        "     loss.backward()         # https://stackoverflow.com/questions/57248777/backward-function-in-pytorch/57249287#57249287\n",
        "     optimizer.step()\n"
      ],
      "metadata": {
        "id": "hbJvltehRnyC",
        "colab": {
          "base_uri": "https://localhost:8080/"
        },
        "outputId": "62f9f382-3b47-41f7-ea98-9700edeafab7"
      },
      "execution_count": 364,
      "outputs": [
        {
          "output_type": "stream",
          "name": "stdout",
          "text": [
            "Epoch: 0 and loss: 1.1251550912857056\n",
            "Epoch: 10 and loss: 1.0096259117126465\n",
            "Epoch: 20 and loss: 0.8157405853271484\n",
            "Epoch: 30 and loss: 0.585706353187561\n",
            "Epoch: 40 and loss: 0.3999636471271515\n",
            "Epoch: 50 and loss: 0.2676880657672882\n",
            "Epoch: 60 and loss: 0.17942363023757935\n",
            "Epoch: 70 and loss: 0.12151690572500229\n",
            "Epoch: 80 and loss: 0.0860118418931961\n",
            "Epoch: 90 and loss: 0.06520850956439972\n"
          ]
        }
      ]
    },
    {
      "cell_type": "code",
      "source": [
        "# y_pred"
      ],
      "metadata": {
        "id": "LkjZxN3BDptL"
      },
      "execution_count": 365,
      "outputs": []
    },
    {
      "cell_type": "code",
      "source": [
        "# Graph it out\n",
        "plt.plot(range(epochs), losses)\n",
        "plt.ylabel(\"loss/error\")\n",
        "plt.xlabel('Epoch')"
      ],
      "metadata": {
        "id": "HmMB8SuVhBZU",
        "colab": {
          "base_uri": "https://localhost:8080/",
          "height": 466
        },
        "outputId": "38dc2e43-2d84-4e2d-9f01-d4b5f6b3dab2"
      },
      "execution_count": 366,
      "outputs": [
        {
          "output_type": "execute_result",
          "data": {
            "text/plain": [
              "Text(0.5, 0, 'Epoch')"
            ]
          },
          "metadata": {},
          "execution_count": 366
        },
        {
          "output_type": "display_data",
          "data": {
            "text/plain": [
              "<Figure size 640x480 with 1 Axes>"
            ],
            "image/png": "[encoded data removed]"
          },
          "metadata": {}
        }
      ]
    },
    {
      "cell_type": "code",
      "source": [
        "x_test"
      ],
      "metadata": {
        "colab": {
          "base_uri": "https://localhost:8080/"
        },
        "id": "xITWUMoYoFH7",
        "outputId": "ba4a8667-0f15-4281-d3e6-5b24ea916933"
      },
      "execution_count": 367,
      "outputs": [
        {
          "output_type": "execute_result",
          "data": {
            "text/plain": [
              "tensor([[6.0000, 2.2000, 5.0000, 1.5000],\n",
              "        [6.4000, 2.8000, 5.6000, 2.1000],\n",
              "        [7.7000, 3.0000, 6.1000, 2.3000],\n",
              "        [6.1000, 3.0000, 4.6000, 1.4000],\n",
              "        [6.8000, 3.0000, 5.5000, 2.1000],\n",
              "        [6.1000, 2.8000, 4.0000, 1.3000],\n",
              "        [6.3000, 2.7000, 4.9000, 1.8000],\n",
              "        [6.0000, 3.4000, 4.5000, 1.6000],\n",
              "        [6.5000, 3.0000, 5.2000, 2.0000],\n",
              "        [6.8000, 3.2000, 5.9000, 2.3000],\n",
              "        [6.1000, 3.0000, 4.9000, 1.8000],\n",
              "        [5.1000, 3.4000, 1.5000, 0.2000],\n",
              "        [4.4000, 3.0000, 1.3000, 0.2000],\n",
              "        [5.0000, 2.3000, 3.3000, 1.0000],\n",
              "        [5.1000, 3.3000, 1.7000, 0.5000],\n",
              "        [6.3000, 2.8000, 5.1000, 1.5000],\n",
              "        [4.8000, 3.1000, 1.6000, 0.2000],\n",
              "        [6.0000, 2.7000, 5.1000, 1.6000],\n",
              "        [4.9000, 3.1000, 1.5000, 0.1000],\n",
              "        [4.5000, 2.3000, 1.3000, 0.3000],\n",
              "        [5.5000, 2.4000, 3.7000, 1.0000],\n",
              "        [6.9000, 3.2000, 5.7000, 2.3000],\n",
              "        [5.0000, 3.5000, 1.6000, 0.6000],\n",
              "        [4.7000, 3.2000, 1.3000, 0.2000],\n",
              "        [5.6000, 2.9000, 3.6000, 1.3000],\n",
              "        [6.0000, 2.2000, 4.0000, 1.0000],\n",
              "        [6.3000, 3.3000, 4.7000, 1.6000],\n",
              "        [5.8000, 2.7000, 4.1000, 1.0000],\n",
              "        [5.0000, 3.3000, 1.4000, 0.2000],\n",
              "        [6.1000, 2.9000, 4.7000, 1.4000]])"
            ]
          },
          "metadata": {},
          "execution_count": 367
        }
      ]
    },
    {
      "cell_type": "code",
      "source": [
        "# Evaluate a Model on test Dataset (Validate model on test set)\n",
        "# https://stackoverflow.com/questions/72504734/what-is-the-purpose-of-with-torch-no-grad\n",
        "\n",
        "with torch.no_grad():    # Basically Turn off the Back Propagation\n",
        "   y_eval = model.forward(x_test)   # x_test are features from our test set, y_eval will be predictions\n",
        "   loss = criterion(y_eval, y_test) # Find the loss or Error"
      ],
      "metadata": {
        "id": "2CMBkY1yRPAj"
      },
      "execution_count": 368,
      "outputs": []
    },
    {
      "cell_type": "code",
      "source": [
        "y_eval"
      ],
      "metadata": {
        "colab": {
          "base_uri": "https://localhost:8080/"
        },
        "id": "8zhx0_sfn7ov",
        "outputId": "abccd858-22c7-469e-d32f-bd04928a5533"
      },
      "execution_count": 369,
      "outputs": [
        {
          "output_type": "execute_result",
          "data": {
            "text/plain": [
              "tensor([[-5.8760,  4.4628,  6.5124],\n",
              "        [-7.5436,  4.1670,  9.7255],\n",
              "        [-8.4504,  5.1271, 10.1987],\n",
              "        [-4.3398,  5.6267,  2.5608],\n",
              "        [-7.1825,  4.8754,  8.2992],\n",
              "        [-3.3974,  5.3463,  1.2803],\n",
              "        [-5.9231,  4.9822,  5.9997],\n",
              "        [-4.2881,  5.7003,  2.3889],\n",
              "        [-6.5356,  4.9257,  7.1260],\n",
              "        [-8.0509,  4.4129, 10.3286],\n",
              "        [-5.6762,  4.9500,  5.6215],\n",
              "        [ 4.5662, -2.2476, -2.8911],\n",
              "        [ 4.2571, -1.9967, -2.7330],\n",
              "        [-2.1108,  4.0515,  0.5799],\n",
              "        [ 3.4575, -1.2098, -2.3514],\n",
              "        [-5.4724,  5.1165,  5.0934],\n",
              "        [ 4.0557, -1.7949, -2.6492],\n",
              "        [-5.8075,  4.6053,  6.2458],\n",
              "        [ 4.4343, -2.1392, -2.8242],\n",
              "        [ 3.4528, -1.2514, -2.3660],\n",
              "        [-2.6189,  4.5619,  0.8574],\n",
              "        [-7.7412,  4.7377,  9.4199],\n",
              "        [ 3.5744, -1.3221, -2.4135],\n",
              "        [ 4.5365, -2.2383, -2.8684],\n",
              "        [-2.6579,  4.6177,  0.8823],\n",
              "        [-3.2865,  5.2229,  1.2164],\n",
              "        [-4.6514,  5.7776,  2.9273],\n",
              "        [-2.9464,  4.8892,  1.0379],\n",
              "        [ 4.5847, -2.2687, -2.8974],\n",
              "        [-4.5784,  5.4554,  3.1660]])"
            ]
          },
          "metadata": {},
          "execution_count": 369
        }
      ]
    },
    {
      "cell_type": "code",
      "source": [
        "loss"
      ],
      "metadata": {
        "colab": {
          "base_uri": "https://localhost:8080/"
        },
        "id": "mAVjgx7u25Tb",
        "outputId": "41a66acd-b843-40ea-84ba-a6f1f9c484aa"
      },
      "execution_count": 370,
      "outputs": [
        {
          "output_type": "execute_result",
          "data": {
            "text/plain": [
              "tensor(0.1315)"
            ]
          },
          "metadata": {},
          "execution_count": 370
        }
      ]
    },
    {
      "cell_type": "code",
      "source": [
        "x_test"
      ],
      "metadata": {
        "id": "laFKz7g0rbMQ",
        "colab": {
          "base_uri": "https://localhost:8080/"
        },
        "outputId": "d9c648c1-ab4e-44e0-850c-6b493b5c5263"
      },
      "execution_count": 371,
      "outputs": [
        {
          "output_type": "execute_result",
          "data": {
            "text/plain": [
              "tensor([[6.0000, 2.2000, 5.0000, 1.5000],\n",
              "        [6.4000, 2.8000, 5.6000, 2.1000],\n",
              "        [7.7000, 3.0000, 6.1000, 2.3000],\n",
              "        [6.1000, 3.0000, 4.6000, 1.4000],\n",
              "        [6.8000, 3.0000, 5.5000, 2.1000],\n",
              "        [6.1000, 2.8000, 4.0000, 1.3000],\n",
              "        [6.3000, 2.7000, 4.9000, 1.8000],\n",
              "        [6.0000, 3.4000, 4.5000, 1.6000],\n",
              "        [6.5000, 3.0000, 5.2000, 2.0000],\n",
              "        [6.8000, 3.2000, 5.9000, 2.3000],\n",
              "        [6.1000, 3.0000, 4.9000, 1.8000],\n",
              "        [5.1000, 3.4000, 1.5000, 0.2000],\n",
              "        [4.4000, 3.0000, 1.3000, 0.2000],\n",
              "        [5.0000, 2.3000, 3.3000, 1.0000],\n",
              "        [5.1000, 3.3000, 1.7000, 0.5000],\n",
              "        [6.3000, 2.8000, 5.1000, 1.5000],\n",
              "        [4.8000, 3.1000, 1.6000, 0.2000],\n",
              "        [6.0000, 2.7000, 5.1000, 1.6000],\n",
              "        [4.9000, 3.1000, 1.5000, 0.1000],\n",
              "        [4.5000, 2.3000, 1.3000, 0.3000],\n",
              "        [5.5000, 2.4000, 3.7000, 1.0000],\n",
              "        [6.9000, 3.2000, 5.7000, 2.3000],\n",
              "        [5.0000, 3.5000, 1.6000, 0.6000],\n",
              "        [4.7000, 3.2000, 1.3000, 0.2000],\n",
              "        [5.6000, 2.9000, 3.6000, 1.3000],\n",
              "        [6.0000, 2.2000, 4.0000, 1.0000],\n",
              "        [6.3000, 3.3000, 4.7000, 1.6000],\n",
              "        [5.8000, 2.7000, 4.1000, 1.0000],\n",
              "        [5.0000, 3.3000, 1.4000, 0.2000],\n",
              "        [6.1000, 2.9000, 4.7000, 1.4000]])"
            ]
          },
          "metadata": {},
          "execution_count": 371
        }
      ]
    },
    {
      "cell_type": "code",
      "source": [
        "y_test"
      ],
      "metadata": {
        "colab": {
          "base_uri": "https://localhost:8080/"
        },
        "id": "Ul4Tlcl3ArcS",
        "outputId": "1f7569c1-c192-4ca3-e45d-1a56d5c9df4d"
      },
      "execution_count": 372,
      "outputs": [
        {
          "output_type": "execute_result",
          "data": {
            "text/plain": [
              "tensor([2, 2, 2, 1, 2, 1, 2, 1, 2, 2, 2, 0, 0, 1, 0, 2, 0, 1, 0, 0, 1, 2, 0, 0,\n",
              "        1, 1, 1, 1, 0, 1])"
            ]
          },
          "metadata": {},
          "execution_count": 372
        }
      ]
    },
    {
      "cell_type": "code",
      "source": [
        "#   \\n represents a newline character and is used for line breaks or starting a new line.\n",
        "#   \\t represents a tab character and is used for horizontal indentation or spacing.\n",
        "#   \\r represents a carriage return character and is used to move the cursor to the beginning of the current line without advancing to the next line.\n"
      ],
      "metadata": {
        "id": "-3lbeVpJm1Ry"
      },
      "execution_count": 373,
      "outputs": []
    },
    {
      "cell_type": "code",
      "source": [
        "correct = 0\n",
        "\n",
        "with torch.no_grad():\n",
        "    for i, data in enumerate(x_test):\n",
        "        y_val = model.forward(data)\n",
        "\n",
        "        # Will tell us what type of flower class our network thinks it is\n",
        "        print( f'{i+1}.) {str(y_val)} \\t {y_test[i]}   \\t {y_val.argmax().item()}' )\n",
        "\n",
        "        # Correct or Not\n",
        "        if y_val.argmax().item() == y_test[i]:     # https://machinelearningmastery.com/argmax-in-machine-learning/#:~:text=Argmax%20is%20an%20operation%20that,function%20is%20preferred%20in%20practice.\n",
        "             correct += 1\n",
        "\n",
        "print(f'We got {correct} correct!!')"
      ],
      "metadata": {
        "id": "xg5157ki3Bm1",
        "colab": {
          "base_uri": "https://localhost:8080/"
        },
        "outputId": "8f53ba39-b92c-4d70-b286-7e262ca51660"
      },
      "execution_count": 374,
      "outputs": [
        {
          "output_type": "stream",
          "name": "stdout",
          "text": [
            "1.) tensor([-5.8760,  4.4628,  6.5124]) \t 2   \t 2\n",
            "2.) tensor([-7.5436,  4.1670,  9.7255]) \t 2   \t 2\n",
            "3.) tensor([-8.4504,  5.1271, 10.1987]) \t 2   \t 2\n",
            "4.) tensor([-4.3398,  5.6267,  2.5608]) \t 1   \t 1\n",
            "5.) tensor([-7.1825,  4.8754,  8.2992]) \t 2   \t 2\n",
            "6.) tensor([-3.3974,  5.3463,  1.2803]) \t 1   \t 1\n",
            "7.) tensor([-5.9231,  4.9822,  5.9997]) \t 2   \t 2\n",
            "8.) tensor([-4.2881,  5.7003,  2.3889]) \t 1   \t 1\n",
            "9.) tensor([-6.5356,  4.9257,  7.1260]) \t 2   \t 2\n",
            "10.) tensor([-8.0509,  4.4129, 10.3286]) \t 2   \t 2\n",
            "11.) tensor([-5.6762,  4.9500,  5.6215]) \t 2   \t 2\n",
            "12.) tensor([ 4.5662, -2.2476, -2.8911]) \t 0   \t 0\n",
            "13.) tensor([ 4.2571, -1.9967, -2.7330]) \t 0   \t 0\n",
            "14.) tensor([-2.1108,  4.0515,  0.5799]) \t 1   \t 1\n",
            "15.) tensor([ 3.4575, -1.2098, -2.3514]) \t 0   \t 0\n",
            "16.) tensor([-5.4724,  5.1165,  5.0934]) \t 2   \t 1\n",
            "17.) tensor([ 4.0557, -1.7949, -2.6492]) \t 0   \t 0\n",
            "18.) tensor([-5.8075,  4.6053,  6.2458]) \t 1   \t 2\n",
            "19.) tensor([ 4.4343, -2.1392, -2.8242]) \t 0   \t 0\n",
            "20.) tensor([ 3.4527, -1.2514, -2.3660]) \t 0   \t 0\n",
            "21.) tensor([-2.6189,  4.5619,  0.8574]) \t 1   \t 1\n",
            "22.) tensor([-7.7412,  4.7377,  9.4199]) \t 2   \t 2\n",
            "23.) tensor([ 3.5743, -1.3221, -2.4135]) \t 0   \t 0\n",
            "24.) tensor([ 4.5365, -2.2383, -2.8684]) \t 0   \t 0\n",
            "25.) tensor([-2.6579,  4.6177,  0.8823]) \t 1   \t 1\n",
            "26.) tensor([-3.2865,  5.2229,  1.2164]) \t 1   \t 1\n",
            "27.) tensor([-4.6514,  5.7776,  2.9273]) \t 1   \t 1\n",
            "28.) tensor([-2.9464,  4.8892,  1.0379]) \t 1   \t 1\n",
            "29.) tensor([ 4.5847, -2.2687, -2.8974]) \t 0   \t 0\n",
            "30.) tensor([-4.5784,  5.4554,  3.1660]) \t 1   \t 1\n",
            "We got 28 correct!!\n"
          ]
        }
      ]
    },
    {
      "cell_type": "code",
      "source": [
        "data"
      ],
      "metadata": {
        "id": "hhXSq9_Nnq_y",
        "colab": {
          "base_uri": "https://localhost:8080/"
        },
        "outputId": "91674ba6-5cde-4f36-ab48-6bbd6459af99"
      },
      "execution_count": 375,
      "outputs": [
        {
          "output_type": "execute_result",
          "data": {
            "text/plain": [
              "tensor([6.1000, 2.9000, 4.7000, 1.4000])"
            ]
          },
          "metadata": {},
          "execution_count": 375
        }
      ]
    },
    {
      "cell_type": "code",
      "source": [
        "y_val.argmax().item()"
      ],
      "metadata": {
        "colab": {
          "base_uri": "https://localhost:8080/"
        },
        "id": "sqxrcF2PpmOo",
        "outputId": "8b0e316a-8769-488f-f568-4021293bc77f"
      },
      "execution_count": 376,
      "outputs": [
        {
          "output_type": "execute_result",
          "data": {
            "text/plain": [
              "1"
            ]
          },
          "metadata": {},
          "execution_count": 376
        }
      ]
    },
    {
      "cell_type": "code",
      "source": [
        "y_test"
      ],
      "metadata": {
        "colab": {
          "base_uri": "https://localhost:8080/"
        },
        "id": "fuJqWc9UulYC",
        "outputId": "db470a7e-22d6-4bac-e9b3-7d4b6ea51afe"
      },
      "execution_count": 377,
      "outputs": [
        {
          "output_type": "execute_result",
          "data": {
            "text/plain": [
              "tensor([2, 2, 2, 1, 2, 1, 2, 1, 2, 2, 2, 0, 0, 1, 0, 2, 0, 1, 0, 0, 1, 2, 0, 0,\n",
              "        1, 1, 1, 1, 0, 1])"
            ]
          },
          "metadata": {},
          "execution_count": 377
        }
      ]
    },
    {
      "cell_type": "code",
      "source": [
        "correct = 0\n",
        "\n",
        "with torch.no_grad():\n",
        "    for i, data in enumerate(x_test):\n",
        "        y_val = model.forward(data)\n",
        "\n",
        "        if y_test[i] == 0:\n",
        "          x='setosa'\n",
        "        elif y_test[i]==1:\n",
        "          x = 'versicolor'\n",
        "        else:\n",
        "          x='virginica'\n",
        "\n",
        "        # Will tell us what type of flower class our network thinks it is\n",
        "        print( f'{i+1}.) {str(y_val)} \\t {x}   \\t {y_val.argmax().item()}' )\n",
        "\n",
        "        # Correct or Not\n",
        "        if y_val.argmax().item() == y_test[i]:     # https://machinelearningmastery.com/argmax-in-machine-learning/#:~:text=Argmax%20is%20an%20operation%20that,function%20is%20preferred%20in%20practice.\n",
        "             correct += 1\n",
        "\n",
        "print(f'We got {correct} correct!!')"
      ],
      "metadata": {
        "colab": {
          "base_uri": "https://localhost:8080/"
        },
        "id": "Hm_-vKFlusBj",
        "outputId": "22f9c58d-fb1d-43e1-d2a7-1d2aaecdf8ce"
      },
      "execution_count": 378,
      "outputs": [
        {
          "output_type": "stream",
          "name": "stdout",
          "text": [
            "1.) tensor([-5.8760,  4.4628,  6.5124]) \t virginica   \t 2\n",
            "2.) tensor([-7.5436,  4.1670,  9.7255]) \t virginica   \t 2\n",
            "3.) tensor([-8.4504,  5.1271, 10.1987]) \t virginica   \t 2\n",
            "4.) tensor([-4.3398,  5.6267,  2.5608]) \t versicolor   \t 1\n",
            "5.) tensor([-7.1825,  4.8754,  8.2992]) \t virginica   \t 2\n",
            "6.) tensor([-3.3974,  5.3463,  1.2803]) \t versicolor   \t 1\n",
            "7.) tensor([-5.9231,  4.9822,  5.9997]) \t virginica   \t 2\n",
            "8.) tensor([-4.2881,  5.7003,  2.3889]) \t versicolor   \t 1\n",
            "9.) tensor([-6.5356,  4.9257,  7.1260]) \t virginica   \t 2\n",
            "10.) tensor([-8.0509,  4.4129, 10.3286]) \t virginica   \t 2\n",
            "11.) tensor([-5.6762,  4.9500,  5.6215]) \t virginica   \t 2\n",
            "12.) tensor([ 4.5662, -2.2476, -2.8911]) \t setosa   \t 0\n",
            "13.) tensor([ 4.2571, -1.9967, -2.7330]) \t setosa   \t 0\n",
            "14.) tensor([-2.1108,  4.0515,  0.5799]) \t versicolor   \t 1\n",
            "15.) tensor([ 3.4575, -1.2098, -2.3514]) \t setosa   \t 0\n",
            "16.) tensor([-5.4724,  5.1165,  5.0934]) \t virginica   \t 1\n",
            "17.) tensor([ 4.0557, -1.7949, -2.6492]) \t setosa   \t 0\n",
            "18.) tensor([-5.8075,  4.6053,  6.2458]) \t versicolor   \t 2\n",
            "19.) tensor([ 4.4343, -2.1392, -2.8242]) \t setosa   \t 0\n",
            "20.) tensor([ 3.4527, -1.2514, -2.3660]) \t setosa   \t 0\n",
            "21.) tensor([-2.6189,  4.5619,  0.8574]) \t versicolor   \t 1\n",
            "22.) tensor([-7.7412,  4.7377,  9.4199]) \t virginica   \t 2\n",
            "23.) tensor([ 3.5743, -1.3221, -2.4135]) \t setosa   \t 0\n",
            "24.) tensor([ 4.5365, -2.2383, -2.8684]) \t setosa   \t 0\n",
            "25.) tensor([-2.6579,  4.6177,  0.8823]) \t versicolor   \t 1\n",
            "26.) tensor([-3.2865,  5.2229,  1.2164]) \t versicolor   \t 1\n",
            "27.) tensor([-4.6514,  5.7776,  2.9273]) \t versicolor   \t 1\n",
            "28.) tensor([-2.9464,  4.8892,  1.0379]) \t versicolor   \t 1\n",
            "29.) tensor([ 4.5847, -2.2687, -2.8974]) \t setosa   \t 0\n",
            "30.) tensor([-4.5784,  5.4554,  3.1660]) \t versicolor   \t 1\n",
            "We got 28 correct!!\n"
          ]
        }
      ]
    },
    {
      "cell_type": "code",
      "source": [
        "new_iris = torch.tensor([4,7, 3.2, 1.3, 0.2])\n"
      ],
      "metadata": {
        "id": "HYdukgt774Yd"
      },
      "execution_count": 379,
      "outputs": []
    },
    {
      "cell_type": "code",
      "source": [
        "# with torch.no_grad():\n",
        "  #  print(model(new_iris))  # new data prediction is not working beacuse of matrix mulitiplication\n"
      ],
      "metadata": {
        "id": "loYS-DVu-Fgb"
      },
      "execution_count": 380,
      "outputs": []
    },
    {
      "cell_type": "code",
      "source": [
        "# Save our NN model\n",
        "\n",
        "torch.save(model.state_dict(), 'my_really_awesome_iris_model.pt')\n"
      ],
      "metadata": {
        "id": "uG819_vD-Nbu"
      },
      "execution_count": 381,
      "outputs": []
    },
    {
      "cell_type": "code",
      "source": [
        "# Load the saved Model\n",
        "new_model = Model()\n",
        "new_model.load_state_dict(torch.load('my_really_awesome_iris_model.pt'))"
      ],
      "metadata": {
        "colab": {
          "base_uri": "https://localhost:8080/"
        },
        "id": "KcVEGA2GDCk5",
        "outputId": "0bb1918e-393a-4341-f244-27566c8e9f36"
      },
      "execution_count": 382,
      "outputs": [
        {
          "output_type": "execute_result",
          "data": {
            "text/plain": [
              "<All keys matched successfully>"
            ]
          },
          "metadata": {},
          "execution_count": 382
        }
      ]
    },
    {
      "cell_type": "code",
      "source": [
        "# Make sure it loaded correctly\n",
        "new_model.eval()"
      ],
      "metadata": {
        "colab": {
          "base_uri": "https://localhost:8080/"
        },
        "id": "QfNTTEJaDcO1",
        "outputId": "af5f0032-8797-434a-bf95-aebe7c535bff"
      },
      "execution_count": 383,
      "outputs": [
        {
          "output_type": "execute_result",
          "data": {
            "text/plain": [
              "Model(\n",
              "  (fc1): Linear(in_features=4, out_features=8, bias=True)\n",
              "  (fc2): Linear(in_features=8, out_features=9, bias=True)\n",
              "  (out): Linear(in_features=9, out_features=3, bias=True)\n",
              ")"
            ]
          },
          "metadata": {},
          "execution_count": 383
        }
      ]
    },
    {
      "cell_type": "code",
      "source": [],
      "metadata": {
        "id": "YjQ8NJQdDrvw"
      },
      "execution_count": 383,
      "outputs": []
    }
  ],
  "metadata": {
    "colab": {
      "provenance": [],
      "gpuType": "T4"
    },
    "kernelspec": {
      "display_name": "Python 3",
      "name": "python3"
    },
    "language_info": {
      "name": "python"
    },
    "accelerator": "GPU"
  },
  "nbformat": 4,
  "nbformat_minor": 0
}